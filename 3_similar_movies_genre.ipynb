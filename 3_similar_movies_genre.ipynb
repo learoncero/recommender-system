{
 "cells": [
  {
   "cell_type": "code",
   "execution_count": 10,
   "metadata": {
    "ExecuteTime": {
     "end_time": "2024-12-04T08:45:48.261383Z",
     "start_time": "2024-12-04T08:45:48.245367Z"
    }
   },
   "outputs": [],
   "source": [
    "import pandas as pd\n",
    "from sklearn.feature_extraction.text import TfidfVectorizer\n",
    "from sklearn.neighbors import NearestNeighbors"
   ]
  },
  {
   "cell_type": "markdown",
   "metadata": {},
   "source": [
    "# 0. Notebook description\n",
    "\n",
    "In this notebook, we load our cleaned dataset and perform a content-based recommendation based on the `Genre` column, which contains one or more movie genres."
   ]
  },
  {
   "cell_type": "markdown",
   "metadata": {},
   "source": [
    "# 1. Load dataset"
   ]
  },
  {
   "cell_type": "code",
   "execution_count": 11,
   "metadata": {
    "ExecuteTime": {
     "end_time": "2024-12-04T08:45:48.304897Z",
     "start_time": "2024-12-04T08:45:48.261383Z"
    }
   },
   "outputs": [
    {
     "data": {
      "text/html": [
       "<div>\n",
       "<style scoped>\n",
       "    .dataframe tbody tr th:only-of-type {\n",
       "        vertical-align: middle;\n",
       "    }\n",
       "\n",
       "    .dataframe tbody tr th {\n",
       "        vertical-align: top;\n",
       "    }\n",
       "\n",
       "    .dataframe thead th {\n",
       "        text-align: right;\n",
       "    }\n",
       "</style>\n",
       "<table border=\"1\" class=\"dataframe\">\n",
       "  <thead>\n",
       "    <tr style=\"text-align: right;\">\n",
       "      <th></th>\n",
       "      <th>Poster_Link</th>\n",
       "      <th>Series_Title</th>\n",
       "      <th>Released_Year</th>\n",
       "      <th>Certificate</th>\n",
       "      <th>Runtime</th>\n",
       "      <th>Genre</th>\n",
       "      <th>IMDB_Rating</th>\n",
       "      <th>Overview</th>\n",
       "      <th>Director</th>\n",
       "      <th>Star1</th>\n",
       "      <th>Star2</th>\n",
       "      <th>Star3</th>\n",
       "      <th>Star4</th>\n",
       "      <th>No_of_Votes</th>\n",
       "    </tr>\n",
       "  </thead>\n",
       "  <tbody>\n",
       "    <tr>\n",
       "      <th>0</th>\n",
       "      <td>https://m.media-amazon.com/images/M/MV5BMDFkYT...</td>\n",
       "      <td>The Shawshank Redemption</td>\n",
       "      <td>1994</td>\n",
       "      <td>A</td>\n",
       "      <td>142.0</td>\n",
       "      <td>Drama</td>\n",
       "      <td>9.3</td>\n",
       "      <td>Two imprisoned men bond over a number of years...</td>\n",
       "      <td>Frank Darabont</td>\n",
       "      <td>Tim Robbins</td>\n",
       "      <td>Morgan Freeman</td>\n",
       "      <td>Bob Gunton</td>\n",
       "      <td>William Sadler</td>\n",
       "      <td>2343110</td>\n",
       "    </tr>\n",
       "    <tr>\n",
       "      <th>1</th>\n",
       "      <td>https://m.media-amazon.com/images/M/MV5BM2MyNj...</td>\n",
       "      <td>The Godfather</td>\n",
       "      <td>1972</td>\n",
       "      <td>A</td>\n",
       "      <td>175.0</td>\n",
       "      <td>Crime, Drama</td>\n",
       "      <td>9.2</td>\n",
       "      <td>An organized crime dynasty's aging patriarch t...</td>\n",
       "      <td>Francis Ford Coppola</td>\n",
       "      <td>Marlon Brando</td>\n",
       "      <td>Al Pacino</td>\n",
       "      <td>James Caan</td>\n",
       "      <td>Diane Keaton</td>\n",
       "      <td>1620367</td>\n",
       "    </tr>\n",
       "    <tr>\n",
       "      <th>2</th>\n",
       "      <td>https://m.media-amazon.com/images/M/MV5BMTMxNT...</td>\n",
       "      <td>The Dark Knight</td>\n",
       "      <td>2008</td>\n",
       "      <td>UA</td>\n",
       "      <td>152.0</td>\n",
       "      <td>Action, Crime, Drama</td>\n",
       "      <td>9.0</td>\n",
       "      <td>When the menace known as the Joker wreaks havo...</td>\n",
       "      <td>Christopher Nolan</td>\n",
       "      <td>Christian Bale</td>\n",
       "      <td>Heath Ledger</td>\n",
       "      <td>Aaron Eckhart</td>\n",
       "      <td>Michael Caine</td>\n",
       "      <td>2303232</td>\n",
       "    </tr>\n",
       "    <tr>\n",
       "      <th>3</th>\n",
       "      <td>https://m.media-amazon.com/images/M/MV5BMWMwMG...</td>\n",
       "      <td>The Godfather: Part II</td>\n",
       "      <td>1974</td>\n",
       "      <td>A</td>\n",
       "      <td>202.0</td>\n",
       "      <td>Crime, Drama</td>\n",
       "      <td>9.0</td>\n",
       "      <td>The early life and career of Vito Corleone in ...</td>\n",
       "      <td>Francis Ford Coppola</td>\n",
       "      <td>Al Pacino</td>\n",
       "      <td>Robert De Niro</td>\n",
       "      <td>Robert Duvall</td>\n",
       "      <td>Diane Keaton</td>\n",
       "      <td>1129952</td>\n",
       "    </tr>\n",
       "    <tr>\n",
       "      <th>4</th>\n",
       "      <td>https://m.media-amazon.com/images/M/MV5BMWU4N2...</td>\n",
       "      <td>12 Angry Men</td>\n",
       "      <td>1957</td>\n",
       "      <td>U</td>\n",
       "      <td>96.0</td>\n",
       "      <td>Crime, Drama</td>\n",
       "      <td>9.0</td>\n",
       "      <td>A jury holdout attempts to prevent a miscarria...</td>\n",
       "      <td>Sidney Lumet</td>\n",
       "      <td>Henry Fonda</td>\n",
       "      <td>Lee J. Cobb</td>\n",
       "      <td>Martin Balsam</td>\n",
       "      <td>John Fiedler</td>\n",
       "      <td>689845</td>\n",
       "    </tr>\n",
       "  </tbody>\n",
       "</table>\n",
       "</div>"
      ],
      "text/plain": [
       "                                         Poster_Link  \\\n",
       "0  https://m.media-amazon.com/images/M/MV5BMDFkYT...   \n",
       "1  https://m.media-amazon.com/images/M/MV5BM2MyNj...   \n",
       "2  https://m.media-amazon.com/images/M/MV5BMTMxNT...   \n",
       "3  https://m.media-amazon.com/images/M/MV5BMWMwMG...   \n",
       "4  https://m.media-amazon.com/images/M/MV5BMWU4N2...   \n",
       "\n",
       "               Series_Title Released_Year Certificate  Runtime  \\\n",
       "0  The Shawshank Redemption          1994           A    142.0   \n",
       "1             The Godfather          1972           A    175.0   \n",
       "2           The Dark Knight          2008          UA    152.0   \n",
       "3    The Godfather: Part II          1974           A    202.0   \n",
       "4              12 Angry Men          1957           U     96.0   \n",
       "\n",
       "                  Genre  IMDB_Rating  \\\n",
       "0                 Drama          9.3   \n",
       "1          Crime, Drama          9.2   \n",
       "2  Action, Crime, Drama          9.0   \n",
       "3          Crime, Drama          9.0   \n",
       "4          Crime, Drama          9.0   \n",
       "\n",
       "                                            Overview              Director  \\\n",
       "0  Two imprisoned men bond over a number of years...        Frank Darabont   \n",
       "1  An organized crime dynasty's aging patriarch t...  Francis Ford Coppola   \n",
       "2  When the menace known as the Joker wreaks havo...     Christopher Nolan   \n",
       "3  The early life and career of Vito Corleone in ...  Francis Ford Coppola   \n",
       "4  A jury holdout attempts to prevent a miscarria...          Sidney Lumet   \n",
       "\n",
       "            Star1           Star2          Star3           Star4  No_of_Votes  \n",
       "0     Tim Robbins  Morgan Freeman     Bob Gunton  William Sadler      2343110  \n",
       "1   Marlon Brando       Al Pacino     James Caan    Diane Keaton      1620367  \n",
       "2  Christian Bale    Heath Ledger  Aaron Eckhart   Michael Caine      2303232  \n",
       "3       Al Pacino  Robert De Niro  Robert Duvall    Diane Keaton      1129952  \n",
       "4     Henry Fonda     Lee J. Cobb  Martin Balsam    John Fiedler       689845  "
      ]
     },
     "execution_count": 11,
     "metadata": {},
     "output_type": "execute_result"
    }
   ],
   "source": [
    "movies_df = pd.read_csv('datasets/imdb_top_1000_cleaned.csv', low_memory=False)\n",
    "\n",
    "movies_df.head()"
   ]
  },
  {
   "cell_type": "markdown",
   "metadata": {},
   "source": [
    "# 2. Prepare tf-idf model for the `Genre` column\n",
    "\n",
    "The Genre column contains the genre(s) of each movie, which we used to build a content-based recommendation system. We transformed the genres into numeric vector representations using the tf-idf vectorizer.\n",
    "\n",
    "Unlike traditional binary encoding, the tf-idf model accounts for the frequency of genres across the dataset, assigning higher importance to less common genres. This helps the system capture more nuanced relationships between movies based on their unique genre combinations. Each row in the resulting matrix represents a movie, and each column corresponds to a genre, with tf-idf scores indicating the movie's association with that genre.\n",
    "\n",
    "This genre-based tf-idf matrix was used as input for the recommendation system, enabling it to recommend movies with similar genre profiles effectively."
   ]
  },
  {
   "cell_type": "code",
   "execution_count": 12,
   "metadata": {
    "ExecuteTime": {
     "end_time": "2024-12-04T08:45:48.383538Z",
     "start_time": "2024-12-04T08:45:48.377885Z"
    }
   },
   "outputs": [
    {
     "name": "stdout",
     "output_type": "stream",
     "text": [
      "0                        Drama\n",
      "1                 Crime, Drama\n",
      "2         Action, Crime, Drama\n",
      "3                 Crime, Drama\n",
      "4                 Crime, Drama\n",
      "5     Action, Adventure, Drama\n",
      "6                 Crime, Drama\n",
      "7    Biography, Drama, History\n",
      "8     Action, Adventure, SciFi\n",
      "9                        Drama\n",
      "Name: Genre, dtype: object\n"
     ]
    }
   ],
   "source": [
    "# print the Genre column of the first 10 movies\n",
    "print(movies_df['Genre'].head(10))"
   ]
  },
  {
   "cell_type": "code",
   "execution_count": 13,
   "metadata": {
    "ExecuteTime": {
     "end_time": "2024-12-04T08:45:48.561410Z",
     "start_time": "2024-12-04T08:45:48.541748Z"
    }
   },
   "outputs": [
    {
     "name": "stdout",
     "output_type": "stream",
     "text": [
      "Matrix contains 999 movies and 22 words\n"
     ]
    }
   ],
   "source": [
    "vectorizer = TfidfVectorizer(stop_words='english', max_df=0.8, min_df=2)\n",
    "\n",
    "movies_df.Genre = movies_df.Genre.fillna('')\n",
    "tfidf_model = vectorizer.fit_transform(movies_df.Genre)\n",
    "print(f'Matrix contains {tfidf_model.shape[0]} movies and {tfidf_model.shape[1]} words')"
   ]
  },
  {
   "cell_type": "markdown",
   "metadata": {},
   "source": [
    "### Inspect the tf-idf model\n",
    "\n",
    "Inspect the columns with popular movie genres like 'drama', 'fantasy', 'adventure', 'comedy', 'biography', 'crime' etc."
   ]
  },
  {
   "cell_type": "code",
   "execution_count": 14,
   "metadata": {
    "ExecuteTime": {
     "end_time": "2024-12-04T08:45:48.690779Z",
     "start_time": "2024-12-04T08:45:48.680362Z"
    }
   },
   "outputs": [
    {
     "name": "stdout",
     "output_type": "stream",
     "text": [
      "['action' 'adventure' 'animation' 'biography' 'comedy' 'crime' 'drama'\n",
      " 'family' 'fantasy' 'film' 'history' 'horror' 'music' 'musical' 'mystery'\n",
      " 'noir' 'romance' 'scifi' 'sport' 'thriller' 'war' 'western']\n"
     ]
    }
   ],
   "source": [
    "columns = vectorizer.get_feature_names_out()\n",
    "print(columns)"
   ]
  },
  {
   "cell_type": "code",
   "execution_count": 15,
   "metadata": {
    "ExecuteTime": {
     "end_time": "2024-12-04T08:45:48.861798Z",
     "start_time": "2024-12-04T08:45:48.842426Z"
    }
   },
   "outputs": [
    {
     "data": {
      "text/html": [
       "<div>\n",
       "<style scoped>\n",
       "    .dataframe tbody tr th:only-of-type {\n",
       "        vertical-align: middle;\n",
       "    }\n",
       "\n",
       "    .dataframe tbody tr th {\n",
       "        vertical-align: top;\n",
       "    }\n",
       "\n",
       "    .dataframe thead th {\n",
       "        text-align: right;\n",
       "    }\n",
       "</style>\n",
       "<table border=\"1\" class=\"dataframe\">\n",
       "  <thead>\n",
       "    <tr style=\"text-align: right;\">\n",
       "      <th></th>\n",
       "      <th>drama</th>\n",
       "      <th>fantasy</th>\n",
       "      <th>adventure</th>\n",
       "      <th>comedy</th>\n",
       "      <th>biography</th>\n",
       "      <th>crime</th>\n",
       "    </tr>\n",
       "  </thead>\n",
       "  <tbody>\n",
       "    <tr>\n",
       "      <th>0</th>\n",
       "      <td>1.0</td>\n",
       "      <td>0</td>\n",
       "      <td>0</td>\n",
       "      <td>0</td>\n",
       "      <td>0</td>\n",
       "      <td>0</td>\n",
       "    </tr>\n",
       "    <tr>\n",
       "      <th>1</th>\n",
       "      <td>0.458335</td>\n",
       "      <td>0</td>\n",
       "      <td>0</td>\n",
       "      <td>0</td>\n",
       "      <td>0</td>\n",
       "      <td>0.888779</td>\n",
       "    </tr>\n",
       "    <tr>\n",
       "      <th>2</th>\n",
       "      <td>0.337001</td>\n",
       "      <td>0</td>\n",
       "      <td>0</td>\n",
       "      <td>0</td>\n",
       "      <td>0</td>\n",
       "      <td>0.653494</td>\n",
       "    </tr>\n",
       "    <tr>\n",
       "      <th>3</th>\n",
       "      <td>0.458335</td>\n",
       "      <td>0</td>\n",
       "      <td>0</td>\n",
       "      <td>0</td>\n",
       "      <td>0</td>\n",
       "      <td>0.888779</td>\n",
       "    </tr>\n",
       "    <tr>\n",
       "      <th>4</th>\n",
       "      <td>0.458335</td>\n",
       "      <td>0</td>\n",
       "      <td>0</td>\n",
       "      <td>0</td>\n",
       "      <td>0</td>\n",
       "      <td>0.888779</td>\n",
       "    </tr>\n",
       "  </tbody>\n",
       "</table>\n",
       "</div>"
      ],
      "text/plain": [
       "      drama  fantasy  adventure  comedy  biography     crime\n",
       "0       1.0        0          0       0          0         0\n",
       "1  0.458335        0          0       0          0  0.888779\n",
       "2  0.337001        0          0       0          0  0.653494\n",
       "3  0.458335        0          0       0          0  0.888779\n",
       "4  0.458335        0          0       0          0  0.888779"
      ]
     },
     "execution_count": 15,
     "metadata": {},
     "output_type": "execute_result"
    }
   ],
   "source": [
    "genres = ['drama', 'fantasy', 'adventure', 'comedy', 'biography', 'crime']\n",
    "columns = vectorizer.get_feature_names_out()\n",
    "tfidf_model_df = pd.DataFrame.sparse.from_spmatrix(tfidf_model, columns=columns)\n",
    "tfidf_model_df[genres].head()"
   ]
  },
  {
   "cell_type": "markdown",
   "metadata": {},
   "source": [
    "# 3. Find similar movies\n",
    "\n",
    "To find similar movies, we use the KNN algorithm with **cosine similarity** as a distance metric to find the nearest neighbours."
   ]
  },
  {
   "cell_type": "code",
   "execution_count": 16,
   "metadata": {
    "ExecuteTime": {
     "end_time": "2024-12-04T08:45:48.942436Z",
     "start_time": "2024-12-04T08:45:48.935778Z"
    }
   },
   "outputs": [],
   "source": [
    "def get_content_based_recommendation_genre(title, top_n=10, metric='cosine'):\n",
    "    # Get the index of the movie that matches the title\n",
    "    # we'll use that index to locate the row in the tf-idf matrix that corresponds to that movie\n",
    "    idx = movies_df[movies_df.Series_Title.str.lower() == title.lower()].index[0]\n",
    "\n",
    "    model = NearestNeighbors(n_neighbors=top_n+1, metric=metric)\n",
    "    model.fit(tfidf_model)\n",
    "    similar_movies = model.kneighbors(tfidf_model[idx], return_distance=False)[0]\n",
    "    similar_movies = similar_movies[1:]  # remove the first item which is the movie itself\n",
    "\n",
    "    # Return the top 10 most similar movies\n",
    "    return movies_df.iloc[similar_movies]"
   ]
  },
  {
   "cell_type": "code",
   "execution_count": 17,
   "metadata": {
    "ExecuteTime": {
     "end_time": "2024-12-04T08:45:49.032816Z",
     "start_time": "2024-12-04T08:45:49.012159Z"
    }
   },
   "outputs": [
    {
     "data": {
      "text/html": [
       "<div>\n",
       "<style scoped>\n",
       "    .dataframe tbody tr th:only-of-type {\n",
       "        vertical-align: middle;\n",
       "    }\n",
       "\n",
       "    .dataframe tbody tr th {\n",
       "        vertical-align: top;\n",
       "    }\n",
       "\n",
       "    .dataframe thead th {\n",
       "        text-align: right;\n",
       "    }\n",
       "</style>\n",
       "<table border=\"1\" class=\"dataframe\">\n",
       "  <thead>\n",
       "    <tr style=\"text-align: right;\">\n",
       "      <th></th>\n",
       "      <th>Series_Title</th>\n",
       "      <th>Genre</th>\n",
       "      <th>IMDB_Rating</th>\n",
       "      <th>No_of_Votes</th>\n",
       "      <th>Genre</th>\n",
       "    </tr>\n",
       "  </thead>\n",
       "  <tbody>\n",
       "    <tr>\n",
       "      <th>108</th>\n",
       "      <td>Scarface</td>\n",
       "      <td>Crime, Drama</td>\n",
       "      <td>8.3</td>\n",
       "      <td>740911</td>\n",
       "      <td>Crime, Drama</td>\n",
       "    </tr>\n",
       "    <tr>\n",
       "      <th>707</th>\n",
       "      <td>À bout de souffle</td>\n",
       "      <td>Crime, Drama</td>\n",
       "      <td>7.8</td>\n",
       "      <td>73251</td>\n",
       "      <td>Crime, Drama</td>\n",
       "    </tr>\n",
       "    <tr>\n",
       "      <th>1</th>\n",
       "      <td>The Godfather</td>\n",
       "      <td>Crime, Drama</td>\n",
       "      <td>9.2</td>\n",
       "      <td>1620367</td>\n",
       "      <td>Crime, Drama</td>\n",
       "    </tr>\n",
       "    <tr>\n",
       "      <th>22</th>\n",
       "      <td>Cidade de Deus</td>\n",
       "      <td>Crime, Drama</td>\n",
       "      <td>8.6</td>\n",
       "      <td>699256</td>\n",
       "      <td>Crime, Drama</td>\n",
       "    </tr>\n",
       "    <tr>\n",
       "      <th>111</th>\n",
       "      <td>Taxi Driver</td>\n",
       "      <td>Crime, Drama</td>\n",
       "      <td>8.3</td>\n",
       "      <td>724636</td>\n",
       "      <td>Crime, Drama</td>\n",
       "    </tr>\n",
       "    <tr>\n",
       "      <th>762</th>\n",
       "      <td>This Is England</td>\n",
       "      <td>Crime, Drama</td>\n",
       "      <td>7.7</td>\n",
       "      <td>115576</td>\n",
       "      <td>Crime, Drama</td>\n",
       "    </tr>\n",
       "    <tr>\n",
       "      <th>973</th>\n",
       "      <td>The Godfather: Part III</td>\n",
       "      <td>Crime, Drama</td>\n",
       "      <td>7.6</td>\n",
       "      <td>359809</td>\n",
       "      <td>Crime, Drama</td>\n",
       "    </tr>\n",
       "    <tr>\n",
       "      <th>71</th>\n",
       "      <td>Once Upon a Time in America</td>\n",
       "      <td>Crime, Drama</td>\n",
       "      <td>8.4</td>\n",
       "      <td>311365</td>\n",
       "      <td>Crime, Drama</td>\n",
       "    </tr>\n",
       "    <tr>\n",
       "      <th>396</th>\n",
       "      <td>Bound by Honor</td>\n",
       "      <td>Crime, Drama</td>\n",
       "      <td>8.0</td>\n",
       "      <td>28825</td>\n",
       "      <td>Crime, Drama</td>\n",
       "    </tr>\n",
       "    <tr>\n",
       "      <th>894</th>\n",
       "      <td>Leviafan</td>\n",
       "      <td>Crime, Drama</td>\n",
       "      <td>7.6</td>\n",
       "      <td>49397</td>\n",
       "      <td>Crime, Drama</td>\n",
       "    </tr>\n",
       "  </tbody>\n",
       "</table>\n",
       "</div>"
      ],
      "text/plain": [
       "                    Series_Title         Genre  IMDB_Rating  No_of_Votes  \\\n",
       "108                     Scarface  Crime, Drama          8.3       740911   \n",
       "707            À bout de souffle  Crime, Drama          7.8        73251   \n",
       "1                  The Godfather  Crime, Drama          9.2      1620367   \n",
       "22                Cidade de Deus  Crime, Drama          8.6       699256   \n",
       "111                  Taxi Driver  Crime, Drama          8.3       724636   \n",
       "762              This Is England  Crime, Drama          7.7       115576   \n",
       "973      The Godfather: Part III  Crime, Drama          7.6       359809   \n",
       "71   Once Upon a Time in America  Crime, Drama          8.4       311365   \n",
       "396               Bound by Honor  Crime, Drama          8.0        28825   \n",
       "894                     Leviafan  Crime, Drama          7.6        49397   \n",
       "\n",
       "            Genre  \n",
       "108  Crime, Drama  \n",
       "707  Crime, Drama  \n",
       "1    Crime, Drama  \n",
       "22   Crime, Drama  \n",
       "111  Crime, Drama  \n",
       "762  Crime, Drama  \n",
       "973  Crime, Drama  \n",
       "71   Crime, Drama  \n",
       "396  Crime, Drama  \n",
       "894  Crime, Drama  "
      ]
     },
     "execution_count": 17,
     "metadata": {},
     "output_type": "execute_result"
    }
   ],
   "source": [
    "get_content_based_recommendation_genre('The Godfather')[['Series_Title', 'Genre', 'IMDB_Rating', 'No_of_Votes', 'Genre']]"
   ]
  },
  {
   "cell_type": "code",
   "execution_count": 18,
   "metadata": {
    "ExecuteTime": {
     "end_time": "2024-12-04T08:45:49.178947Z",
     "start_time": "2024-12-04T08:45:49.156920Z"
    }
   },
   "outputs": [
    {
     "data": {
      "text/html": [
       "<div>\n",
       "<style scoped>\n",
       "    .dataframe tbody tr th:only-of-type {\n",
       "        vertical-align: middle;\n",
       "    }\n",
       "\n",
       "    .dataframe tbody tr th {\n",
       "        vertical-align: top;\n",
       "    }\n",
       "\n",
       "    .dataframe thead th {\n",
       "        text-align: right;\n",
       "    }\n",
       "</style>\n",
       "<table border=\"1\" class=\"dataframe\">\n",
       "  <thead>\n",
       "    <tr style=\"text-align: right;\">\n",
       "      <th></th>\n",
       "      <th>Series_Title</th>\n",
       "      <th>Genre</th>\n",
       "      <th>IMDB_Rating</th>\n",
       "      <th>No_of_Votes</th>\n",
       "      <th>Genre</th>\n",
       "    </tr>\n",
       "  </thead>\n",
       "  <tbody>\n",
       "    <tr>\n",
       "      <th>601</th>\n",
       "      <td>Ang-ma-reul bo-at-da</td>\n",
       "      <td>Action, Crime, Drama</td>\n",
       "      <td>7.8</td>\n",
       "      <td>111252</td>\n",
       "      <td>Action, Crime, Drama</td>\n",
       "    </tr>\n",
       "    <tr>\n",
       "      <th>604</th>\n",
       "      <td>Ajeossi</td>\n",
       "      <td>Action, Crime, Drama</td>\n",
       "      <td>7.8</td>\n",
       "      <td>62848</td>\n",
       "      <td>Action, Crime, Drama</td>\n",
       "    </tr>\n",
       "    <tr>\n",
       "      <th>895</th>\n",
       "      <td>Hell or High Water</td>\n",
       "      <td>Action, Crime, Drama</td>\n",
       "      <td>7.6</td>\n",
       "      <td>204175</td>\n",
       "      <td>Action, Crime, Drama</td>\n",
       "    </tr>\n",
       "    <tr>\n",
       "      <th>781</th>\n",
       "      <td>Man on Fire</td>\n",
       "      <td>Action, Crime, Drama</td>\n",
       "      <td>7.7</td>\n",
       "      <td>329592</td>\n",
       "      <td>Action, Crime, Drama</td>\n",
       "    </tr>\n",
       "    <tr>\n",
       "      <th>892</th>\n",
       "      <td>Sicario</td>\n",
       "      <td>Action, Crime, Drama</td>\n",
       "      <td>7.6</td>\n",
       "      <td>371291</td>\n",
       "      <td>Action, Crime, Drama</td>\n",
       "    </tr>\n",
       "    <tr>\n",
       "      <th>344</th>\n",
       "      <td>Tropa de Elite 2: O Inimigo Agora é Outro</td>\n",
       "      <td>Action, Crime, Drama</td>\n",
       "      <td>8.0</td>\n",
       "      <td>79200</td>\n",
       "      <td>Action, Crime, Drama</td>\n",
       "    </tr>\n",
       "    <tr>\n",
       "      <th>767</th>\n",
       "      <td>Lucky Number Slevin</td>\n",
       "      <td>Action, Crime, Drama</td>\n",
       "      <td>7.7</td>\n",
       "      <td>299524</td>\n",
       "      <td>Action, Crime, Drama</td>\n",
       "    </tr>\n",
       "    <tr>\n",
       "      <th>967</th>\n",
       "      <td>Falling Down</td>\n",
       "      <td>Action, Crime, Drama</td>\n",
       "      <td>7.6</td>\n",
       "      <td>171640</td>\n",
       "      <td>Action, Crime, Drama</td>\n",
       "    </tr>\n",
       "    <tr>\n",
       "      <th>849</th>\n",
       "      <td>Enter the Dragon</td>\n",
       "      <td>Action, Crime, Drama</td>\n",
       "      <td>7.7</td>\n",
       "      <td>96561</td>\n",
       "      <td>Action, Crime, Drama</td>\n",
       "    </tr>\n",
       "    <tr>\n",
       "      <th>307</th>\n",
       "      <td>White Heat</td>\n",
       "      <td>Action, Crime, Drama</td>\n",
       "      <td>8.1</td>\n",
       "      <td>29807</td>\n",
       "      <td>Action, Crime, Drama</td>\n",
       "    </tr>\n",
       "  </tbody>\n",
       "</table>\n",
       "</div>"
      ],
      "text/plain": [
       "                                  Series_Title                 Genre  \\\n",
       "601                       Ang-ma-reul bo-at-da  Action, Crime, Drama   \n",
       "604                                    Ajeossi  Action, Crime, Drama   \n",
       "895                         Hell or High Water  Action, Crime, Drama   \n",
       "781                                Man on Fire  Action, Crime, Drama   \n",
       "892                                    Sicario  Action, Crime, Drama   \n",
       "344  Tropa de Elite 2: O Inimigo Agora é Outro  Action, Crime, Drama   \n",
       "767                        Lucky Number Slevin  Action, Crime, Drama   \n",
       "967                               Falling Down  Action, Crime, Drama   \n",
       "849                           Enter the Dragon  Action, Crime, Drama   \n",
       "307                                 White Heat  Action, Crime, Drama   \n",
       "\n",
       "     IMDB_Rating  No_of_Votes                 Genre  \n",
       "601          7.8       111252  Action, Crime, Drama  \n",
       "604          7.8        62848  Action, Crime, Drama  \n",
       "895          7.6       204175  Action, Crime, Drama  \n",
       "781          7.7       329592  Action, Crime, Drama  \n",
       "892          7.6       371291  Action, Crime, Drama  \n",
       "344          8.0        79200  Action, Crime, Drama  \n",
       "767          7.7       299524  Action, Crime, Drama  \n",
       "967          7.6       171640  Action, Crime, Drama  \n",
       "849          7.7        96561  Action, Crime, Drama  \n",
       "307          8.1        29807  Action, Crime, Drama  "
      ]
     },
     "execution_count": 18,
     "metadata": {},
     "output_type": "execute_result"
    }
   ],
   "source": [
    "get_content_based_recommendation_genre('The Dark Knight')[['Series_Title', 'Genre', 'IMDB_Rating', 'No_of_Votes', 'Genre']]"
   ]
  }
 ],
 "metadata": {
  "kernelspec": {
   "display_name": "Python 3",
   "language": "python",
   "name": "python3"
  },
  "language_info": {
   "codemirror_mode": {
    "name": "ipython",
    "version": 3
   },
   "file_extension": ".py",
   "mimetype": "text/x-python",
   "name": "python",
   "nbconvert_exporter": "python",
   "pygments_lexer": "ipython3",
   "version": "3.12.8"
  }
 },
 "nbformat": 4,
 "nbformat_minor": 2
}
