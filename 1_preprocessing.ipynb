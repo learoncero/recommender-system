{
 "cells": [
  {
   "cell_type": "code",
   "metadata": {
    "ExecuteTime": {
     "end_time": "2024-12-04T08:27:39.981065Z",
     "start_time": "2024-12-04T08:27:39.974172Z"
    }
   },
   "source": [
    "import pandas as pd\n",
    "import matplotlib.pyplot as plt\n",
    "import seaborn as sns"
   ],
   "outputs": [],
   "execution_count": 35
  },
  {
   "cell_type": "markdown",
   "metadata": {},
   "source": [
    "# 0. Project Introduction\n",
    "For our project, we decided to build a content-based recommender system. \n",
    "\n",
    "We use the dataset \"IMDB Movies Dataset\" from kaggle which includes records of the top 1000 IMDB movies and tv shows (last updated 4 years ago).\n",
    "\n",
    "## Feature description\n",
    "- `Poster_Link`: Link of the poster that IMDB is using\n",
    "\n",
    "- `Series_Title`: Name of the movie\n",
    "\n",
    "- `Released_Year`: Year at which the movie was released\n",
    "\n",
    "- `Certificate`: Certificate earned by the movie\n",
    "\n",
    "- `Runtime`: Total runtime of the movie\n",
    "\n",
    "- `Genre`: Genre of the movie\n",
    "\n",
    "- `IMDB_Rating`: Rating of the movie by users on IMDB website\n",
    "\n",
    "- `Overview`: Summary of the plot of the movie\n",
    "\n",
    "- `Meta_score`: Average score calcualated from professional critic reviews\n",
    "\n",
    "- `Director`: Name of the movie director\n",
    "\n",
    "- `Star1, Star2, Star3, Star4` - Names of the main stars\n",
    "\n",
    "- `No_of_votes`: Total number of user votes on the IMDB website\n",
    "\n",
    "- `Gross`: Money earned by the movie"
   ]
  },
  {
   "cell_type": "markdown",
   "metadata": {
    "vscode": {
     "languageId": "plaintext"
    }
   },
   "source": [
    "# 1. Load dataset\n",
    "https://www.kaggle.com/datasets/harshitshankhdhar/imdb-dataset-of-top-1000-movies-and-tv-shows"
   ]
  },
  {
   "cell_type": "code",
   "metadata": {
    "ExecuteTime": {
     "end_time": "2024-12-04T08:27:40.033159Z",
     "start_time": "2024-12-04T08:27:39.998033Z"
    }
   },
   "source": [
    "movies_df = pd.read_csv('datasets/imdb_top_1000.csv', low_memory=False)\n",
    "\n",
    "movies_df.head()"
   ],
   "outputs": [
    {
     "data": {
      "text/plain": [
       "                                         Poster_Link  \\\n",
       "0  https://m.media-amazon.com/images/M/MV5BMDFkYT...   \n",
       "1  https://m.media-amazon.com/images/M/MV5BM2MyNj...   \n",
       "2  https://m.media-amazon.com/images/M/MV5BMTMxNT...   \n",
       "3  https://m.media-amazon.com/images/M/MV5BMWMwMG...   \n",
       "4  https://m.media-amazon.com/images/M/MV5BMWU4N2...   \n",
       "\n",
       "               Series_Title Released_Year Certificate  Runtime  \\\n",
       "0  The Shawshank Redemption          1994           A  142 min   \n",
       "1             The Godfather          1972           A  175 min   \n",
       "2           The Dark Knight          2008          UA  152 min   \n",
       "3    The Godfather: Part II          1974           A  202 min   \n",
       "4              12 Angry Men          1957           U   96 min   \n",
       "\n",
       "                  Genre  IMDB_Rating  \\\n",
       "0                 Drama          9.3   \n",
       "1          Crime, Drama          9.2   \n",
       "2  Action, Crime, Drama          9.0   \n",
       "3          Crime, Drama          9.0   \n",
       "4          Crime, Drama          9.0   \n",
       "\n",
       "                                            Overview  Meta_score  \\\n",
       "0  Two imprisoned men bond over a number of years...        80.0   \n",
       "1  An organized crime dynasty's aging patriarch t...       100.0   \n",
       "2  When the menace known as the Joker wreaks havo...        84.0   \n",
       "3  The early life and career of Vito Corleone in ...        90.0   \n",
       "4  A jury holdout attempts to prevent a miscarria...        96.0   \n",
       "\n",
       "               Director           Star1           Star2          Star3  \\\n",
       "0        Frank Darabont     Tim Robbins  Morgan Freeman     Bob Gunton   \n",
       "1  Francis Ford Coppola   Marlon Brando       Al Pacino     James Caan   \n",
       "2     Christopher Nolan  Christian Bale    Heath Ledger  Aaron Eckhart   \n",
       "3  Francis Ford Coppola       Al Pacino  Robert De Niro  Robert Duvall   \n",
       "4          Sidney Lumet     Henry Fonda     Lee J. Cobb  Martin Balsam   \n",
       "\n",
       "            Star4  No_of_Votes        Gross  \n",
       "0  William Sadler      2343110   28,341,469  \n",
       "1    Diane Keaton      1620367  134,966,411  \n",
       "2   Michael Caine      2303232  534,858,444  \n",
       "3    Diane Keaton      1129952   57,300,000  \n",
       "4    John Fiedler       689845    4,360,000  "
      ],
      "text/html": [
       "<div>\n",
       "<style scoped>\n",
       "    .dataframe tbody tr th:only-of-type {\n",
       "        vertical-align: middle;\n",
       "    }\n",
       "\n",
       "    .dataframe tbody tr th {\n",
       "        vertical-align: top;\n",
       "    }\n",
       "\n",
       "    .dataframe thead th {\n",
       "        text-align: right;\n",
       "    }\n",
       "</style>\n",
       "<table border=\"1\" class=\"dataframe\">\n",
       "  <thead>\n",
       "    <tr style=\"text-align: right;\">\n",
       "      <th></th>\n",
       "      <th>Poster_Link</th>\n",
       "      <th>Series_Title</th>\n",
       "      <th>Released_Year</th>\n",
       "      <th>Certificate</th>\n",
       "      <th>Runtime</th>\n",
       "      <th>Genre</th>\n",
       "      <th>IMDB_Rating</th>\n",
       "      <th>Overview</th>\n",
       "      <th>Meta_score</th>\n",
       "      <th>Director</th>\n",
       "      <th>Star1</th>\n",
       "      <th>Star2</th>\n",
       "      <th>Star3</th>\n",
       "      <th>Star4</th>\n",
       "      <th>No_of_Votes</th>\n",
       "      <th>Gross</th>\n",
       "    </tr>\n",
       "  </thead>\n",
       "  <tbody>\n",
       "    <tr>\n",
       "      <th>0</th>\n",
       "      <td>https://m.media-amazon.com/images/M/MV5BMDFkYT...</td>\n",
       "      <td>The Shawshank Redemption</td>\n",
       "      <td>1994</td>\n",
       "      <td>A</td>\n",
       "      <td>142 min</td>\n",
       "      <td>Drama</td>\n",
       "      <td>9.3</td>\n",
       "      <td>Two imprisoned men bond over a number of years...</td>\n",
       "      <td>80.0</td>\n",
       "      <td>Frank Darabont</td>\n",
       "      <td>Tim Robbins</td>\n",
       "      <td>Morgan Freeman</td>\n",
       "      <td>Bob Gunton</td>\n",
       "      <td>William Sadler</td>\n",
       "      <td>2343110</td>\n",
       "      <td>28,341,469</td>\n",
       "    </tr>\n",
       "    <tr>\n",
       "      <th>1</th>\n",
       "      <td>https://m.media-amazon.com/images/M/MV5BM2MyNj...</td>\n",
       "      <td>The Godfather</td>\n",
       "      <td>1972</td>\n",
       "      <td>A</td>\n",
       "      <td>175 min</td>\n",
       "      <td>Crime, Drama</td>\n",
       "      <td>9.2</td>\n",
       "      <td>An organized crime dynasty's aging patriarch t...</td>\n",
       "      <td>100.0</td>\n",
       "      <td>Francis Ford Coppola</td>\n",
       "      <td>Marlon Brando</td>\n",
       "      <td>Al Pacino</td>\n",
       "      <td>James Caan</td>\n",
       "      <td>Diane Keaton</td>\n",
       "      <td>1620367</td>\n",
       "      <td>134,966,411</td>\n",
       "    </tr>\n",
       "    <tr>\n",
       "      <th>2</th>\n",
       "      <td>https://m.media-amazon.com/images/M/MV5BMTMxNT...</td>\n",
       "      <td>The Dark Knight</td>\n",
       "      <td>2008</td>\n",
       "      <td>UA</td>\n",
       "      <td>152 min</td>\n",
       "      <td>Action, Crime, Drama</td>\n",
       "      <td>9.0</td>\n",
       "      <td>When the menace known as the Joker wreaks havo...</td>\n",
       "      <td>84.0</td>\n",
       "      <td>Christopher Nolan</td>\n",
       "      <td>Christian Bale</td>\n",
       "      <td>Heath Ledger</td>\n",
       "      <td>Aaron Eckhart</td>\n",
       "      <td>Michael Caine</td>\n",
       "      <td>2303232</td>\n",
       "      <td>534,858,444</td>\n",
       "    </tr>\n",
       "    <tr>\n",
       "      <th>3</th>\n",
       "      <td>https://m.media-amazon.com/images/M/MV5BMWMwMG...</td>\n",
       "      <td>The Godfather: Part II</td>\n",
       "      <td>1974</td>\n",
       "      <td>A</td>\n",
       "      <td>202 min</td>\n",
       "      <td>Crime, Drama</td>\n",
       "      <td>9.0</td>\n",
       "      <td>The early life and career of Vito Corleone in ...</td>\n",
       "      <td>90.0</td>\n",
       "      <td>Francis Ford Coppola</td>\n",
       "      <td>Al Pacino</td>\n",
       "      <td>Robert De Niro</td>\n",
       "      <td>Robert Duvall</td>\n",
       "      <td>Diane Keaton</td>\n",
       "      <td>1129952</td>\n",
       "      <td>57,300,000</td>\n",
       "    </tr>\n",
       "    <tr>\n",
       "      <th>4</th>\n",
       "      <td>https://m.media-amazon.com/images/M/MV5BMWU4N2...</td>\n",
       "      <td>12 Angry Men</td>\n",
       "      <td>1957</td>\n",
       "      <td>U</td>\n",
       "      <td>96 min</td>\n",
       "      <td>Crime, Drama</td>\n",
       "      <td>9.0</td>\n",
       "      <td>A jury holdout attempts to prevent a miscarria...</td>\n",
       "      <td>96.0</td>\n",
       "      <td>Sidney Lumet</td>\n",
       "      <td>Henry Fonda</td>\n",
       "      <td>Lee J. Cobb</td>\n",
       "      <td>Martin Balsam</td>\n",
       "      <td>John Fiedler</td>\n",
       "      <td>689845</td>\n",
       "      <td>4,360,000</td>\n",
       "    </tr>\n",
       "  </tbody>\n",
       "</table>\n",
       "</div>"
      ]
     },
     "execution_count": 36,
     "metadata": {},
     "output_type": "execute_result"
    }
   ],
   "execution_count": 36
  },
  {
   "cell_type": "markdown",
   "metadata": {},
   "source": [
    "## Number of votes\n",
    "We checked for movies in the dataset that may have too less votes and may not be representative. However, the movies included in the data set all have at least 25,000 votes and it is therefore not necessary to exclude any of them."
   ]
  },
  {
   "cell_type": "code",
   "metadata": {
    "ExecuteTime": {
     "end_time": "2024-12-04T08:27:40.095089Z",
     "start_time": "2024-12-04T08:27:40.085670Z"
    }
   },
   "source": [
    "# show the top 10 movies with the least number of votes\n",
    "movies_df.No_of_Votes.sort_values(ascending=True).head(10)"
   ],
   "outputs": [
    {
     "data": {
      "text/plain": [
       "264    25088\n",
       "721    25198\n",
       "694    25229\n",
       "718    25312\n",
       "570    25344\n",
       "785    25938\n",
       "989    26337\n",
       "169    26402\n",
       "814    26429\n",
       "863    26457\n",
       "Name: No_of_Votes, dtype: int64"
      ]
     },
     "execution_count": 37,
     "metadata": {},
     "output_type": "execute_result"
    }
   ],
   "execution_count": 37
  },
  {
   "cell_type": "markdown",
   "metadata": {},
   "source": [
    "# 2. Preprocessing"
   ]
  },
  {
   "cell_type": "markdown",
   "metadata": {},
   "source": [
    "## Missing values\n",
    "In this section we handle missing values. We start by displaying the columns that contain missing values\n"
   ]
  },
  {
   "cell_type": "code",
   "metadata": {
    "ExecuteTime": {
     "end_time": "2024-12-04T08:27:40.211606Z",
     "start_time": "2024-12-04T08:27:40.201322Z"
    }
   },
   "source": [
    "movies_df.isna().sum()"
   ],
   "outputs": [
    {
     "data": {
      "text/plain": [
       "Poster_Link        0\n",
       "Series_Title       0\n",
       "Released_Year      0\n",
       "Certificate      101\n",
       "Runtime            0\n",
       "Genre              0\n",
       "IMDB_Rating        0\n",
       "Overview           0\n",
       "Meta_score       157\n",
       "Director           0\n",
       "Star1              0\n",
       "Star2              0\n",
       "Star3              0\n",
       "Star4              0\n",
       "No_of_Votes        0\n",
       "Gross            169\n",
       "dtype: int64"
      ]
     },
     "execution_count": 38,
     "metadata": {},
     "output_type": "execute_result"
    }
   ],
   "execution_count": 38
  },
  {
   "cell_type": "markdown",
   "metadata": {},
   "source": [
    "### `Certificate` column\n",
    "Below we show the values for the `Certificate` column in our dataset."
   ]
  },
  {
   "cell_type": "code",
   "metadata": {
    "ExecuteTime": {
     "end_time": "2024-12-04T08:27:40.669320Z",
     "start_time": "2024-12-04T08:27:40.401149Z"
    }
   },
   "source": [
    "print(movies_df.Certificate.value_counts(dropna=False))\n",
    "\n",
    "# Fill NaN values with a placeholder and count the values\n",
    "data_to_plot = movies_df.Certificate.fillna(\"NaN\").to_frame()\n",
    "\n",
    "# Count the values and sort by count\n",
    "sorted_counts = data_to_plot['Certificate'].value_counts().sort_values(ascending=False)\n",
    "\n",
    "# Set up the plot\n",
    "plt.figure(figsize=(10, 6))\n",
    "\n",
    "# Plot with sorted values\n",
    "sns.countplot(x='Certificate', data=data_to_plot, order=sorted_counts.index)\n",
    "plt.title('Distribution of values in column `Certificate`')\n",
    "plt.xticks(rotation=45)\n",
    "plt.show()"
   ],
   "outputs": [
    {
     "name": "stdout",
     "output_type": "stream",
     "text": [
      "Certificate\n",
      "U           234\n",
      "A           197\n",
      "UA          175\n",
      "R           146\n",
      "NaN         101\n",
      "PG-13        43\n",
      "PG           37\n",
      "Passed       34\n",
      "G            12\n",
      "Approved     11\n",
      "TV-PG         3\n",
      "GP            2\n",
      "TV-14         1\n",
      "Unrated       1\n",
      "TV-MA         1\n",
      "16            1\n",
      "U/A           1\n",
      "Name: count, dtype: int64\n"
     ]
    },
    {
     "data": {
      "text/plain": [
       "<Figure size 1000x600 with 1 Axes>"
      ],
      "image/png": "[encoded data removed]"
     },
     "metadata": {},
     "output_type": "display_data"
    }
   ],
   "execution_count": 39
  },
  {
   "cell_type": "markdown",
   "metadata": {},
   "source": [
    "There are 101 missing values for `Certificate` in this dataset. We are not quite sure, but many movies without a certificate are from countries other than the US. It is possible that these countries do not have the same or any certificates at all and therefore 'none' has been assigned.\n",
    "\n",
    "**Strategy for missing values**: Assign category \"None\""
   ]
  },
  {
   "cell_type": "markdown",
   "metadata": {},
   "source": [
    "### `Meta_score` column\n",
    "Below we show the values for the `Meta_score` column in our dataset."
   ]
  },
  {
   "cell_type": "code",
   "metadata": {
    "ExecuteTime": {
     "end_time": "2024-12-04T08:27:41.310330Z",
     "start_time": "2024-12-04T08:27:40.706509Z"
    }
   },
   "source": [
    "print(movies_df.Meta_score.value_counts(dropna=False))\n",
    "\n",
    "# Fill NaN values with a placeholder and count the values\n",
    "data_to_plot = movies_df.Meta_score.fillna(\"NaN\").to_frame()\n",
    "\n",
    "# Count the values and sort by count\n",
    "sorted_counts = data_to_plot['Meta_score'].value_counts().sort_values(ascending=False)\n",
    "\n",
    "# Set up the plot\n",
    "plt.figure(figsize=(15, 6))\n",
    "\n",
    "# Plot with sorted values\n",
    "sns.countplot(x='Meta_score', data=data_to_plot, order=sorted_counts.index)\n",
    "plt.title('Distribution of values in column `Meta_score`')\n",
    "plt.xticks(rotation=90)\n",
    "plt.show()"
   ],
   "outputs": [
    {
     "name": "stdout",
     "output_type": "stream",
     "text": [
      "Meta_score\n",
      "NaN     157\n",
      "76.0     32\n",
      "84.0     29\n",
      "90.0     29\n",
      "73.0     27\n",
      "       ... \n",
      "28.0      1\n",
      "36.0      1\n",
      "46.0      1\n",
      "30.0      1\n",
      "41.0      1\n",
      "Name: count, Length: 64, dtype: int64\n"
     ]
    },
    {
     "data": {
      "text/plain": [
       "<Figure size 1500x600 with 1 Axes>"
      ],
      "image/png": "[encoded data removed]"
     },
     "metadata": {},
     "output_type": "display_data"
    }
   ],
   "execution_count": 40
  },
  {
   "cell_type": "markdown",
   "metadata": {},
   "source": [
    "Calculatig the mean value for the meta score would not be very accurate in our opinion. Moreover, this column is not relevant to our context which is why we have decided to assign the value 0 (zero).\n",
    "\n",
    "**Strategy for missing values**: Assign value 0 (zero)"
   ]
  },
  {
   "cell_type": "markdown",
   "metadata": {},
   "source": [
    "### `Gross` column\n",
    "Below we show the values for the `Gross` column in our dataset. We do not plot them as there are over 800 distinct values."
   ]
  },
  {
   "cell_type": "code",
   "metadata": {
    "ExecuteTime": {
     "end_time": "2024-12-04T08:27:41.329977Z",
     "start_time": "2024-12-04T08:27:41.318428Z"
    }
   },
   "source": [
    "print(movies_df.Gross.value_counts(dropna=False))"
   ],
   "outputs": [
    {
     "name": "stdout",
     "output_type": "stream",
     "text": [
      "Gross\n",
      "NaN            169\n",
      "4,360,000        5\n",
      "25,000,000       2\n",
      "5,321,508        2\n",
      "5,450,000        2\n",
      "              ... \n",
      "696,690          1\n",
      "1,378,435        1\n",
      "141,843,612      1\n",
      "13,780,024       1\n",
      "330,252,182      1\n",
      "Name: count, Length: 824, dtype: int64\n"
     ]
    }
   ],
   "execution_count": 41
  },
  {
   "cell_type": "markdown",
   "metadata": {},
   "source": [
    "As there are so many different values spread over a wide range, it is challenging to impute it accurately. Moreover, this column is not relevant to our context which is why we have decided to assign the value 0 (zero).\n",
    "\n",
    "**Strategy for missing values**: Assign value 0 (zero)"
   ]
  },
  {
   "cell_type": "markdown",
   "metadata": {},
   "source": [
    "## Apply missing values strategy"
   ]
  },
  {
   "cell_type": "code",
   "metadata": {
    "ExecuteTime": {
     "end_time": "2024-12-04T08:27:41.359034Z",
     "start_time": "2024-12-04T08:27:41.351370Z"
    }
   },
   "source": [
    "fill_missing_columns_none = ['Certificate']\n",
    "fill_missing_columns_zero = ['Gross', 'Meta_score']\n",
    "\n",
    "# Fill missing values with 'None'\n",
    "movies_df[fill_missing_columns_none] = movies_df[fill_missing_columns_none].fillna('None')\n",
    "movies_df[fill_missing_columns_zero] = movies_df[fill_missing_columns_zero].fillna(0)"
   ],
   "outputs": [],
   "execution_count": 42
  },
  {
   "cell_type": "code",
   "metadata": {
    "ExecuteTime": {
     "end_time": "2024-12-04T08:27:41.398884Z",
     "start_time": "2024-12-04T08:27:41.389824Z"
    }
   },
   "source": [
    "# Check the number of missing values\n",
    "\n",
    "movies_df.isna().sum()"
   ],
   "outputs": [
    {
     "data": {
      "text/plain": [
       "Poster_Link      0\n",
       "Series_Title     0\n",
       "Released_Year    0\n",
       "Certificate      0\n",
       "Runtime          0\n",
       "Genre            0\n",
       "IMDB_Rating      0\n",
       "Overview         0\n",
       "Meta_score       0\n",
       "Director         0\n",
       "Star1            0\n",
       "Star2            0\n",
       "Star3            0\n",
       "Star4            0\n",
       "No_of_Votes      0\n",
       "Gross            0\n",
       "dtype: int64"
      ]
     },
     "execution_count": 43,
     "metadata": {},
     "output_type": "execute_result"
    }
   ],
   "execution_count": 43
  },
  {
   "cell_type": "markdown",
   "metadata": {},
   "source": [
    "## Remove the hyphen in the `Genre` column (sci-fi to scifi)\n",
    "\n"
   ]
  },
  {
   "cell_type": "code",
   "metadata": {
    "ExecuteTime": {
     "end_time": "2024-12-04T08:27:41.443689Z",
     "start_time": "2024-12-04T08:27:41.436980Z"
    }
   },
   "source": [
    "movies_df['Genre'] = movies_df['Genre'].str.replace('Sci-Fi', 'SciFi')"
   ],
   "outputs": [],
   "execution_count": 44
  },
  {
   "cell_type": "markdown",
   "metadata": {},
   "source": "## Convert `Runtime` and `Gross` to numerical data types"
  },
  {
   "cell_type": "markdown",
   "metadata": {},
   "source": [
    "We are showing the data types of the `Runtime` and `Gross` columns below. Currently, those are objects. To be able to work better with these values, we convert them into numerical data types."
   ]
  },
  {
   "cell_type": "code",
   "metadata": {
    "ExecuteTime": {
     "end_time": "2024-12-04T08:27:41.500361Z",
     "start_time": "2024-12-04T08:27:41.492975Z"
    }
   },
   "source": [
    "# Show data and data types of runtime column\n",
    "print(movies_df.Runtime)\n",
    "print(movies_df.Runtime.dtype)"
   ],
   "outputs": [
    {
     "name": "stdout",
     "output_type": "stream",
     "text": [
      "0      142 min\n",
      "1      175 min\n",
      "2      152 min\n",
      "3      202 min\n",
      "4       96 min\n",
      "        ...   \n",
      "995    115 min\n",
      "996    201 min\n",
      "997    118 min\n",
      "998     97 min\n",
      "999     86 min\n",
      "Name: Runtime, Length: 1000, dtype: object\n",
      "object\n"
     ]
    }
   ],
   "execution_count": 45
  },
  {
   "cell_type": "code",
   "metadata": {
    "ExecuteTime": {
     "end_time": "2024-12-04T08:27:41.628722Z",
     "start_time": "2024-12-04T08:27:41.613181Z"
    }
   },
   "source": [
    "# Show data and data types of gross column\n",
    "print(movies_df.Gross)\n",
    "print(movies_df.Gross.dtype)"
   ],
   "outputs": [
    {
     "name": "stdout",
     "output_type": "stream",
     "text": [
      "0       28,341,469\n",
      "1      134,966,411\n",
      "2      534,858,444\n",
      "3       57,300,000\n",
      "4        4,360,000\n",
      "          ...     \n",
      "995              0\n",
      "996              0\n",
      "997     30,500,000\n",
      "998              0\n",
      "999              0\n",
      "Name: Gross, Length: 1000, dtype: object\n",
      "object\n"
     ]
    }
   ],
   "execution_count": 46
  },
  {
   "cell_type": "code",
   "metadata": {
    "ExecuteTime": {
     "end_time": "2024-12-04T08:27:41.751121Z",
     "start_time": "2024-12-04T08:27:41.743471Z"
    }
   },
   "source": [
    "# Remove \"min\" and convert to integer\n",
    "movies_df['Runtime'] = movies_df['Runtime'].str.replace(' min', '').astype(float)"
   ],
   "outputs": [],
   "execution_count": 47
  },
  {
   "cell_type": "code",
   "metadata": {
    "ExecuteTime": {
     "end_time": "2024-12-04T08:27:41.937982Z",
     "start_time": "2024-12-04T08:27:41.929859Z"
    }
   },
   "source": [
    "# Remove commas and convert to float\n",
    "movies_df['Gross'] = movies_df['Gross'].str.replace(',', '').astype(float)"
   ],
   "outputs": [],
   "execution_count": 48
  },
  {
   "cell_type": "code",
   "metadata": {
    "ExecuteTime": {
     "end_time": "2024-12-04T08:27:41.986567Z",
     "start_time": "2024-12-04T08:27:41.978973Z"
    }
   },
   "source": [
    "print(movies_df.Runtime.dtype)\n",
    "print(movies_df.Gross.dtype)"
   ],
   "outputs": [
    {
     "name": "stdout",
     "output_type": "stream",
     "text": [
      "float64\n",
      "float64\n"
     ]
    }
   ],
   "execution_count": 49
  },
  {
   "cell_type": "markdown",
   "metadata": {},
   "source": [
    "# 3. Save as CSV files\n",
    "\n",
    "We save our dataset as CSV file so it can be used in the following notebooks."
   ]
  },
  {
   "cell_type": "code",
   "metadata": {
    "ExecuteTime": {
     "end_time": "2024-12-04T08:27:42.030314Z",
     "start_time": "2024-12-04T08:27:42.000119Z"
    }
   },
   "source": [
    "movies_df.to_csv('datasets/imdb_top_1000_cleaned.csv', index=False)"
   ],
   "outputs": [],
   "execution_count": 50
  }
 ],
 "metadata": {
  "kernelspec": {
   "display_name": "Python 3",
   "language": "python",
   "name": "python3"
  },
  "language_info": {
   "codemirror_mode": {
    "name": "ipython",
    "version": 3
   },
   "file_extension": ".py",
   "mimetype": "text/x-python",
   "name": "python",
   "nbconvert_exporter": "python",
   "pygments_lexer": "ipython3",
   "version": "3.12.7"
  }
 },
 "nbformat": 4,
 "nbformat_minor": 2
}
