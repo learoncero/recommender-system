{
 "cells": [
  {
   "cell_type": "code",
   "metadata": {
    "ExecuteTime": {
     "end_time": "2024-11-20T09:39:14.829041Z",
     "start_time": "2024-11-20T09:39:14.820213Z"
    }
   },
   "source": [
    "import pandas as pd\n",
    "from sklearn.feature_extraction.text import TfidfVectorizer\n",
    "from sklearn.neighbors import NearestNeighbors"
   ],
   "outputs": [],
   "execution_count": 20
  },
  {
   "cell_type": "markdown",
   "metadata": {},
   "source": [
    "# 0. Notebook description\n",
    "\n",
    "In this notebook, we load our cleaned dataset and perform a content-based recommendation based on the `Star1`, `Star2`, `Star3`, and `Star4` columns, which contain the actors of each movie.\n"
   ]
  },
  {
   "cell_type": "markdown",
   "metadata": {},
   "source": [
    "# 1. Load dataset"
   ]
  },
  {
   "cell_type": "code",
   "metadata": {
    "ExecuteTime": {
     "end_time": "2024-11-20T09:39:14.884171Z",
     "start_time": "2024-11-20T09:39:14.860620Z"
    }
   },
   "source": [
    "movies_df = pd.read_csv('datasets/imdb_top_1000_cleaned.csv', low_memory=False)\n",
    "\n",
    "print(movies_df[['Star1', 'Star2', 'Star3', 'Star4']].head())"
   ],
   "outputs": [
    {
     "name": "stdout",
     "output_type": "stream",
     "text": [
      "            Star1           Star2          Star3           Star4\n",
      "0     Tim Robbins  Morgan Freeman     Bob Gunton  William Sadler\n",
      "1   Marlon Brando       Al Pacino     James Caan    Diane Keaton\n",
      "2  Christian Bale    Heath Ledger  Aaron Eckhart   Michael Caine\n",
      "3       Al Pacino  Robert De Niro  Robert Duvall    Diane Keaton\n",
      "4     Henry Fonda     Lee J. Cobb  Martin Balsam    John Fiedler\n"
     ]
    }
   ],
   "execution_count": 21
  },
  {
   "cell_type": "markdown",
   "metadata": {},
   "source": [
    "# 2. Prepare tf-idf model for the `Genre` column\n",
    "\n",
    "We combine the actor columns into a single column and then transform them into numeric vector representations using TF-IDF."
   ]
  },
  {
   "cell_type": "code",
   "metadata": {
    "ExecuteTime": {
     "end_time": "2024-11-20T09:39:14.898364Z",
     "start_time": "2024-11-20T09:39:14.886419Z"
    }
   },
   "source": [
    "# Combine the Star columns into a single string\n",
    "movies_df['Actors'] = (\n",
    "        movies_df['Star1'].fillna('') + ' ' +\n",
    "        movies_df['Star2'].fillna('') + ' ' +\n",
    "        movies_df['Star3'].fillna('') + ' ' +\n",
    "        movies_df['Star4'].fillna('')\n",
    ")"
   ],
   "outputs": [],
   "execution_count": 22
  },
  {
   "metadata": {
    "ExecuteTime": {
     "end_time": "2024-11-20T09:39:14.942943Z",
     "start_time": "2024-11-20T09:39:14.928225Z"
    }
   },
   "cell_type": "code",
   "source": [
    "# Print the first 10 rows of the new DataFrame\n",
    "print(movies_df.head(10))"
   ],
   "outputs": [
    {
     "name": "stdout",
     "output_type": "stream",
     "text": [
      "                                         Poster_Link  \\\n",
      "0  https://m.media-amazon.com/images/M/MV5BMDFkYT...   \n",
      "1  https://m.media-amazon.com/images/M/MV5BM2MyNj...   \n",
      "2  https://m.media-amazon.com/images/M/MV5BMTMxNT...   \n",
      "3  https://m.media-amazon.com/images/M/MV5BMWMwMG...   \n",
      "4  https://m.media-amazon.com/images/M/MV5BMWU4N2...   \n",
      "5  https://m.media-amazon.com/images/M/MV5BNzA5ZD...   \n",
      "6  https://m.media-amazon.com/images/M/MV5BNGNhMD...   \n",
      "7  https://m.media-amazon.com/images/M/MV5BNDE4OT...   \n",
      "8  https://m.media-amazon.com/images/M/MV5BMjAxMz...   \n",
      "9  https://m.media-amazon.com/images/M/MV5BMmEzNT...   \n",
      "\n",
      "                                    Series_Title Released_Year Certificate  \\\n",
      "0                       The Shawshank Redemption          1994           A   \n",
      "1                                  The Godfather          1972           A   \n",
      "2                                The Dark Knight          2008          UA   \n",
      "3                         The Godfather: Part II          1974           A   \n",
      "4                                   12 Angry Men          1957           U   \n",
      "5  The Lord of the Rings: The Return of the King          2003           U   \n",
      "6                                   Pulp Fiction          1994           A   \n",
      "7                               Schindler's List          1993           A   \n",
      "8                                      Inception          2010          UA   \n",
      "9                                     Fight Club          1999           A   \n",
      "\n",
      "   Runtime                      Genre  IMDB_Rating  \\\n",
      "0    142.0                      Drama          9.3   \n",
      "1    175.0               Crime, Drama          9.2   \n",
      "2    152.0       Action, Crime, Drama          9.0   \n",
      "3    202.0               Crime, Drama          9.0   \n",
      "4     96.0               Crime, Drama          9.0   \n",
      "5    201.0   Action, Adventure, Drama          8.9   \n",
      "6    154.0               Crime, Drama          8.9   \n",
      "7    195.0  Biography, Drama, History          8.9   \n",
      "8    148.0  Action, Adventure, Sci-Fi          8.8   \n",
      "9    139.0                      Drama          8.8   \n",
      "\n",
      "                                            Overview  Meta_score  \\\n",
      "0  Two imprisoned men bond over a number of years...        80.0   \n",
      "1  An organized crime dynasty's aging patriarch t...       100.0   \n",
      "2  When the menace known as the Joker wreaks havo...        84.0   \n",
      "3  The early life and career of Vito Corleone in ...        90.0   \n",
      "4  A jury holdout attempts to prevent a miscarria...        96.0   \n",
      "5  Gandalf and Aragorn lead the World of Men agai...        94.0   \n",
      "6  The lives of two mob hitmen, a boxer, a gangst...        94.0   \n",
      "7  In German-occupied Poland during World War II,...        94.0   \n",
      "8  A thief who steals corporate secrets through t...        74.0   \n",
      "9  An insomniac office worker and a devil-may-car...        66.0   \n",
      "\n",
      "               Director              Star1                 Star2  \\\n",
      "0        Frank Darabont        Tim Robbins        Morgan Freeman   \n",
      "1  Francis Ford Coppola      Marlon Brando             Al Pacino   \n",
      "2     Christopher Nolan     Christian Bale          Heath Ledger   \n",
      "3  Francis Ford Coppola          Al Pacino        Robert De Niro   \n",
      "4          Sidney Lumet        Henry Fonda           Lee J. Cobb   \n",
      "5         Peter Jackson        Elijah Wood       Viggo Mortensen   \n",
      "6     Quentin Tarantino      John Travolta           Uma Thurman   \n",
      "7      Steven Spielberg        Liam Neeson         Ralph Fiennes   \n",
      "8     Christopher Nolan  Leonardo DiCaprio  Joseph Gordon-Levitt   \n",
      "9         David Fincher          Brad Pitt         Edward Norton   \n",
      "\n",
      "               Star3             Star4  No_of_Votes        Gross  \\\n",
      "0         Bob Gunton    William Sadler      2343110   28341469.0   \n",
      "1         James Caan      Diane Keaton      1620367  134966411.0   \n",
      "2      Aaron Eckhart     Michael Caine      2303232  534858444.0   \n",
      "3      Robert Duvall      Diane Keaton      1129952   57300000.0   \n",
      "4      Martin Balsam      John Fiedler       689845    4360000.0   \n",
      "5       Ian McKellen     Orlando Bloom      1642758  377845905.0   \n",
      "6  Samuel L. Jackson      Bruce Willis      1826188  107928762.0   \n",
      "7       Ben Kingsley  Caroline Goodall      1213505   96898818.0   \n",
      "8        Elliot Page      Ken Watanabe      2067042  292576195.0   \n",
      "9          Meat Loaf      Zach Grenier      1854740   37030102.0   \n",
      "\n",
      "                                              Actors  \n",
      "0  Tim Robbins Morgan Freeman Bob Gunton William ...  \n",
      "1    Marlon Brando Al Pacino James Caan Diane Keaton  \n",
      "2  Christian Bale Heath Ledger Aaron Eckhart Mich...  \n",
      "3  Al Pacino Robert De Niro Robert Duvall Diane K...  \n",
      "4  Henry Fonda Lee J. Cobb Martin Balsam John Fie...  \n",
      "5  Elijah Wood Viggo Mortensen Ian McKellen Orlan...  \n",
      "6  John Travolta Uma Thurman Samuel L. Jackson Br...  \n",
      "7  Liam Neeson Ralph Fiennes Ben Kingsley Carolin...  \n",
      "8  Leonardo DiCaprio Joseph Gordon-Levitt Elliot ...  \n",
      "9     Brad Pitt Edward Norton Meat Loaf Zach Grenier  \n"
     ]
    }
   ],
   "execution_count": 23
  },
  {
   "cell_type": "code",
   "metadata": {
    "ExecuteTime": {
     "end_time": "2024-11-20T09:39:14.992570Z",
     "start_time": "2024-11-20T09:39:14.965225Z"
    }
   },
   "source": [
    "vectorizer = TfidfVectorizer(stop_words='english', max_df=0.8, min_df=2)\n",
    "\n",
    "tfidf_actors = vectorizer.fit_transform(movies_df['Actors'])\n",
    "\n",
    "print(f'Matrix contains {tfidf_actors.shape[0]} movies and {tfidf_actors.shape[1]} words')"
   ],
   "outputs": [
    {
     "name": "stdout",
     "output_type": "stream",
     "text": [
      "Matrix contains 1000 movies and 1377 words\n"
     ]
    }
   ],
   "execution_count": 24
  },
  {
   "cell_type": "markdown",
   "metadata": {},
   "source": [
    "# 3. Find similar movies\n",
    "\n",
    "To find similar movies, we use the KNN algorithm with **cosine similarity** as a distance metric to find the nearest neighbours."
   ]
  },
  {
   "cell_type": "code",
   "metadata": {
    "ExecuteTime": {
     "end_time": "2024-11-20T09:39:15.003372Z",
     "start_time": "2024-11-20T09:39:14.997078Z"
    }
   },
   "source": [
    "def get_content_based_recommendation_actors(title, top_n=10, metric='cosine'):\n",
    "    # Find the index of the movie that matches the title\n",
    "    idx = movies_df[movies_df.Series_Title.str.lower() == title.lower()].index[0]\n",
    "\n",
    "    # Build the KNN model\n",
    "    model = NearestNeighbors(n_neighbors=top_n+1, metric=metric)\n",
    "    model.fit(tfidf_actors)\n",
    "\n",
    "    # Find similar movies\n",
    "    similar_movies = model.kneighbors(tfidf_actors[idx], return_distance=False)[0]\n",
    "    similar_movies = similar_movies[1:]  # remove the first item (the movie itself)\n",
    "\n",
    "    # Return the top recommendations\n",
    "    return movies_df.iloc[similar_movies]"
   ],
   "outputs": [],
   "execution_count": 25
  },
  {
   "cell_type": "code",
   "metadata": {
    "ExecuteTime": {
     "end_time": "2024-11-20T09:39:15.044638Z",
     "start_time": "2024-11-20T09:39:15.020962Z"
    }
   },
   "source": "get_content_based_recommendation_actors('The Godfather')[['Series_Title', 'Star1', 'Star2', 'Star3', 'Star4', 'IMDB_Rating', 'No_of_Votes']]",
   "outputs": [
    {
     "data": {
      "text/plain": [
       "                 Series_Title           Star1              Star2  \\\n",
       "3      The Godfather: Part II       Al Pacino     Robert De Niro   \n",
       "974   The Godfather: Part III       Al Pacino       Diane Keaton   \n",
       "398          Scent of a Woman       Al Pacino    Chris O'Donnell   \n",
       "649               The Insider   Russell Crowe          Al Pacino   \n",
       "53                 Capharnaüm  Zain Al Rafeea  Yordanos Shiferaw   \n",
       "533                 Manhattan     Woody Allen       Diane Keaton   \n",
       "74             Apocalypse Now    Martin Sheen      Marlon Brando   \n",
       "305         On the Waterfront   Marlon Brando        Karl Malden   \n",
       "447  A Streetcar Named Desire    Vivien Leigh      Marlon Brando   \n",
       "414                Annie Hall     Woody Allen       Diane Keaton   \n",
       "\n",
       "                           Star3             Star4  IMDB_Rating  No_of_Votes  \n",
       "3                  Robert Duvall      Diane Keaton          9.0      1129952  \n",
       "974                  Andy Garcia       Talia Shire          7.6       359809  \n",
       "398                James Rebhorn   Gabrielle Anwar          8.0       263918  \n",
       "649          Christopher Plummer      Diane Venora          7.8       159886  \n",
       "53   Boluwatife Treasure Bankole  Kawsar Al Haddad          8.4        62635  \n",
       "533             Mariel Hemingway    Michael Murphy          7.9       131436  \n",
       "74                 Robert Duvall  Frederic Forrest          8.4       606398  \n",
       "305                  Lee J. Cobb       Rod Steiger          8.1       142107  \n",
       "447                   Kim Hunter       Karl Malden          8.0        99182  \n",
       "414                 Tony Roberts        Carol Kane          8.0       251823  "
      ],
      "text/html": [
       "<div>\n",
       "<style scoped>\n",
       "    .dataframe tbody tr th:only-of-type {\n",
       "        vertical-align: middle;\n",
       "    }\n",
       "\n",
       "    .dataframe tbody tr th {\n",
       "        vertical-align: top;\n",
       "    }\n",
       "\n",
       "    .dataframe thead th {\n",
       "        text-align: right;\n",
       "    }\n",
       "</style>\n",
       "<table border=\"1\" class=\"dataframe\">\n",
       "  <thead>\n",
       "    <tr style=\"text-align: right;\">\n",
       "      <th></th>\n",
       "      <th>Series_Title</th>\n",
       "      <th>Star1</th>\n",
       "      <th>Star2</th>\n",
       "      <th>Star3</th>\n",
       "      <th>Star4</th>\n",
       "      <th>IMDB_Rating</th>\n",
       "      <th>No_of_Votes</th>\n",
       "    </tr>\n",
       "  </thead>\n",
       "  <tbody>\n",
       "    <tr>\n",
       "      <th>3</th>\n",
       "      <td>The Godfather: Part II</td>\n",
       "      <td>Al Pacino</td>\n",
       "      <td>Robert De Niro</td>\n",
       "      <td>Robert Duvall</td>\n",
       "      <td>Diane Keaton</td>\n",
       "      <td>9.0</td>\n",
       "      <td>1129952</td>\n",
       "    </tr>\n",
       "    <tr>\n",
       "      <th>974</th>\n",
       "      <td>The Godfather: Part III</td>\n",
       "      <td>Al Pacino</td>\n",
       "      <td>Diane Keaton</td>\n",
       "      <td>Andy Garcia</td>\n",
       "      <td>Talia Shire</td>\n",
       "      <td>7.6</td>\n",
       "      <td>359809</td>\n",
       "    </tr>\n",
       "    <tr>\n",
       "      <th>398</th>\n",
       "      <td>Scent of a Woman</td>\n",
       "      <td>Al Pacino</td>\n",
       "      <td>Chris O'Donnell</td>\n",
       "      <td>James Rebhorn</td>\n",
       "      <td>Gabrielle Anwar</td>\n",
       "      <td>8.0</td>\n",
       "      <td>263918</td>\n",
       "    </tr>\n",
       "    <tr>\n",
       "      <th>649</th>\n",
       "      <td>The Insider</td>\n",
       "      <td>Russell Crowe</td>\n",
       "      <td>Al Pacino</td>\n",
       "      <td>Christopher Plummer</td>\n",
       "      <td>Diane Venora</td>\n",
       "      <td>7.8</td>\n",
       "      <td>159886</td>\n",
       "    </tr>\n",
       "    <tr>\n",
       "      <th>53</th>\n",
       "      <td>Capharnaüm</td>\n",
       "      <td>Zain Al Rafeea</td>\n",
       "      <td>Yordanos Shiferaw</td>\n",
       "      <td>Boluwatife Treasure Bankole</td>\n",
       "      <td>Kawsar Al Haddad</td>\n",
       "      <td>8.4</td>\n",
       "      <td>62635</td>\n",
       "    </tr>\n",
       "    <tr>\n",
       "      <th>533</th>\n",
       "      <td>Manhattan</td>\n",
       "      <td>Woody Allen</td>\n",
       "      <td>Diane Keaton</td>\n",
       "      <td>Mariel Hemingway</td>\n",
       "      <td>Michael Murphy</td>\n",
       "      <td>7.9</td>\n",
       "      <td>131436</td>\n",
       "    </tr>\n",
       "    <tr>\n",
       "      <th>74</th>\n",
       "      <td>Apocalypse Now</td>\n",
       "      <td>Martin Sheen</td>\n",
       "      <td>Marlon Brando</td>\n",
       "      <td>Robert Duvall</td>\n",
       "      <td>Frederic Forrest</td>\n",
       "      <td>8.4</td>\n",
       "      <td>606398</td>\n",
       "    </tr>\n",
       "    <tr>\n",
       "      <th>305</th>\n",
       "      <td>On the Waterfront</td>\n",
       "      <td>Marlon Brando</td>\n",
       "      <td>Karl Malden</td>\n",
       "      <td>Lee J. Cobb</td>\n",
       "      <td>Rod Steiger</td>\n",
       "      <td>8.1</td>\n",
       "      <td>142107</td>\n",
       "    </tr>\n",
       "    <tr>\n",
       "      <th>447</th>\n",
       "      <td>A Streetcar Named Desire</td>\n",
       "      <td>Vivien Leigh</td>\n",
       "      <td>Marlon Brando</td>\n",
       "      <td>Kim Hunter</td>\n",
       "      <td>Karl Malden</td>\n",
       "      <td>8.0</td>\n",
       "      <td>99182</td>\n",
       "    </tr>\n",
       "    <tr>\n",
       "      <th>414</th>\n",
       "      <td>Annie Hall</td>\n",
       "      <td>Woody Allen</td>\n",
       "      <td>Diane Keaton</td>\n",
       "      <td>Tony Roberts</td>\n",
       "      <td>Carol Kane</td>\n",
       "      <td>8.0</td>\n",
       "      <td>251823</td>\n",
       "    </tr>\n",
       "  </tbody>\n",
       "</table>\n",
       "</div>"
      ]
     },
     "execution_count": 26,
     "metadata": {},
     "output_type": "execute_result"
    }
   ],
   "execution_count": 26
  },
  {
   "cell_type": "code",
   "metadata": {
    "ExecuteTime": {
     "end_time": "2024-11-20T09:39:15.115022Z",
     "start_time": "2024-11-20T09:39:15.096138Z"
    }
   },
   "source": "get_content_based_recommendation_actors('The Dark Knight')[['Series_Title', 'Star1', 'Star2', 'Star3', 'Star4', 'IMDB_Rating', 'No_of_Votes']]",
   "outputs": [
    {
     "data": {
      "text/plain": [
       "                   Series_Title            Star1                 Star2  \\\n",
       "36                 The Prestige   Christian Bale          Hugh Jackman   \n",
       "155               Batman Begins   Christian Bale         Michael Caine   \n",
       "773          Brokeback Mountain  Jake Gyllenhaal          Heath Ledger   \n",
       "819  The Muppet Christmas Carol    Michael Caine       Kermit the Frog   \n",
       "778               The Machinist   Christian Bale  Jennifer Jason Leigh   \n",
       "217              Ford v Ferrari       Matt Damon        Christian Bale   \n",
       "832           Empire of the Sun   Christian Bale        John Malkovich   \n",
       "953             American Psycho   Christian Bale        Justin Theroux   \n",
       "692   The Man Who Would Be King     Sean Connery         Michael Caine   \n",
       "63        The Dark Knight Rises   Christian Bale             Tom Hardy   \n",
       "\n",
       "                    Star3            Star4  IMDB_Rating  No_of_Votes  \n",
       "36     Scarlett Johansson    Michael Caine          8.5      1190259  \n",
       "155          Ken Watanabe      Liam Neeson          8.2      1308302  \n",
       "773     Michelle Williams      Randy Quaid          7.7       323103  \n",
       "819            Dave Goelz       Miss Piggy          7.7        50298  \n",
       "778  Aitana Sánchez-Gijón     John Sharian          7.7       358432  \n",
       "217          Jon Bernthal  Caitriona Balfe          8.1       291289  \n",
       "832    Miranda Richardson     Nigel Havers          7.7       115677  \n",
       "953            Josh Lucas        Bill Sage          7.6       490062  \n",
       "692   Christopher Plummer    Saeed Jaffrey          7.8        44917  \n",
       "63          Anne Hathaway      Gary Oldman          8.4      1516346  "
      ],
      "text/html": [
       "<div>\n",
       "<style scoped>\n",
       "    .dataframe tbody tr th:only-of-type {\n",
       "        vertical-align: middle;\n",
       "    }\n",
       "\n",
       "    .dataframe tbody tr th {\n",
       "        vertical-align: top;\n",
       "    }\n",
       "\n",
       "    .dataframe thead th {\n",
       "        text-align: right;\n",
       "    }\n",
       "</style>\n",
       "<table border=\"1\" class=\"dataframe\">\n",
       "  <thead>\n",
       "    <tr style=\"text-align: right;\">\n",
       "      <th></th>\n",
       "      <th>Series_Title</th>\n",
       "      <th>Star1</th>\n",
       "      <th>Star2</th>\n",
       "      <th>Star3</th>\n",
       "      <th>Star4</th>\n",
       "      <th>IMDB_Rating</th>\n",
       "      <th>No_of_Votes</th>\n",
       "    </tr>\n",
       "  </thead>\n",
       "  <tbody>\n",
       "    <tr>\n",
       "      <th>36</th>\n",
       "      <td>The Prestige</td>\n",
       "      <td>Christian Bale</td>\n",
       "      <td>Hugh Jackman</td>\n",
       "      <td>Scarlett Johansson</td>\n",
       "      <td>Michael Caine</td>\n",
       "      <td>8.5</td>\n",
       "      <td>1190259</td>\n",
       "    </tr>\n",
       "    <tr>\n",
       "      <th>155</th>\n",
       "      <td>Batman Begins</td>\n",
       "      <td>Christian Bale</td>\n",
       "      <td>Michael Caine</td>\n",
       "      <td>Ken Watanabe</td>\n",
       "      <td>Liam Neeson</td>\n",
       "      <td>8.2</td>\n",
       "      <td>1308302</td>\n",
       "    </tr>\n",
       "    <tr>\n",
       "      <th>773</th>\n",
       "      <td>Brokeback Mountain</td>\n",
       "      <td>Jake Gyllenhaal</td>\n",
       "      <td>Heath Ledger</td>\n",
       "      <td>Michelle Williams</td>\n",
       "      <td>Randy Quaid</td>\n",
       "      <td>7.7</td>\n",
       "      <td>323103</td>\n",
       "    </tr>\n",
       "    <tr>\n",
       "      <th>819</th>\n",
       "      <td>The Muppet Christmas Carol</td>\n",
       "      <td>Michael Caine</td>\n",
       "      <td>Kermit the Frog</td>\n",
       "      <td>Dave Goelz</td>\n",
       "      <td>Miss Piggy</td>\n",
       "      <td>7.7</td>\n",
       "      <td>50298</td>\n",
       "    </tr>\n",
       "    <tr>\n",
       "      <th>778</th>\n",
       "      <td>The Machinist</td>\n",
       "      <td>Christian Bale</td>\n",
       "      <td>Jennifer Jason Leigh</td>\n",
       "      <td>Aitana Sánchez-Gijón</td>\n",
       "      <td>John Sharian</td>\n",
       "      <td>7.7</td>\n",
       "      <td>358432</td>\n",
       "    </tr>\n",
       "    <tr>\n",
       "      <th>217</th>\n",
       "      <td>Ford v Ferrari</td>\n",
       "      <td>Matt Damon</td>\n",
       "      <td>Christian Bale</td>\n",
       "      <td>Jon Bernthal</td>\n",
       "      <td>Caitriona Balfe</td>\n",
       "      <td>8.1</td>\n",
       "      <td>291289</td>\n",
       "    </tr>\n",
       "    <tr>\n",
       "      <th>832</th>\n",
       "      <td>Empire of the Sun</td>\n",
       "      <td>Christian Bale</td>\n",
       "      <td>John Malkovich</td>\n",
       "      <td>Miranda Richardson</td>\n",
       "      <td>Nigel Havers</td>\n",
       "      <td>7.7</td>\n",
       "      <td>115677</td>\n",
       "    </tr>\n",
       "    <tr>\n",
       "      <th>953</th>\n",
       "      <td>American Psycho</td>\n",
       "      <td>Christian Bale</td>\n",
       "      <td>Justin Theroux</td>\n",
       "      <td>Josh Lucas</td>\n",
       "      <td>Bill Sage</td>\n",
       "      <td>7.6</td>\n",
       "      <td>490062</td>\n",
       "    </tr>\n",
       "    <tr>\n",
       "      <th>692</th>\n",
       "      <td>The Man Who Would Be King</td>\n",
       "      <td>Sean Connery</td>\n",
       "      <td>Michael Caine</td>\n",
       "      <td>Christopher Plummer</td>\n",
       "      <td>Saeed Jaffrey</td>\n",
       "      <td>7.8</td>\n",
       "      <td>44917</td>\n",
       "    </tr>\n",
       "    <tr>\n",
       "      <th>63</th>\n",
       "      <td>The Dark Knight Rises</td>\n",
       "      <td>Christian Bale</td>\n",
       "      <td>Tom Hardy</td>\n",
       "      <td>Anne Hathaway</td>\n",
       "      <td>Gary Oldman</td>\n",
       "      <td>8.4</td>\n",
       "      <td>1516346</td>\n",
       "    </tr>\n",
       "  </tbody>\n",
       "</table>\n",
       "</div>"
      ]
     },
     "execution_count": 27,
     "metadata": {},
     "output_type": "execute_result"
    }
   ],
   "execution_count": 27
  }
 ],
 "metadata": {
  "kernelspec": {
   "display_name": "Python 3",
   "language": "python",
   "name": "python3"
  },
  "language_info": {
   "codemirror_mode": {
    "name": "ipython",
    "version": 3
   },
   "file_extension": ".py",
   "mimetype": "text/x-python",
   "name": "python",
   "nbconvert_exporter": "python",
   "pygments_lexer": "ipython3",
   "version": "3.12.7"
  }
 },
 "nbformat": 4,
 "nbformat_minor": 2
}
