{
 "cells": [
  {
   "cell_type": "code",
   "execution_count": 1,
   "metadata": {
    "ExecuteTime": {
     "end_time": "2024-12-04T08:48:02.469854Z",
     "start_time": "2024-12-04T08:48:01.975007Z"
    }
   },
   "outputs": [],
   "source": [
    "import pandas as pd\n",
    "from sklearn.feature_extraction.text import TfidfVectorizer\n",
    "from sklearn.neighbors import NearestNeighbors"
   ]
  },
  {
   "cell_type": "markdown",
   "metadata": {},
   "source": [
    "# 0. Notebook description\n",
    "\n",
    "In this notebook, we load our cleaned dataset and perform a content-based recommendation based on the `Star1`, `Star2`, `Star3`, and `Star4` columns, which contain the actors of each movie.\n"
   ]
  },
  {
   "cell_type": "markdown",
   "metadata": {},
   "source": [
    "# 1. Load dataset"
   ]
  },
  {
   "cell_type": "code",
   "execution_count": 2,
   "metadata": {
    "ExecuteTime": {
     "end_time": "2024-12-04T08:48:02.503949Z",
     "start_time": "2024-12-04T08:48:02.473577Z"
    }
   },
   "outputs": [
    {
     "name": "stdout",
     "output_type": "stream",
     "text": [
      "            Star1           Star2          Star3           Star4\n",
      "0     Tim Robbins  Morgan Freeman     Bob Gunton  William Sadler\n",
      "1   Marlon Brando       Al Pacino     James Caan    Diane Keaton\n",
      "2  Christian Bale    Heath Ledger  Aaron Eckhart   Michael Caine\n",
      "3       Al Pacino  Robert De Niro  Robert Duvall    Diane Keaton\n",
      "4     Henry Fonda     Lee J. Cobb  Martin Balsam    John Fiedler\n"
     ]
    }
   ],
   "source": [
    "movies_df = pd.read_csv('datasets/imdb_top_1000_cleaned.csv', low_memory=False)\n",
    "\n",
    "print(movies_df[['Star1', 'Star2', 'Star3', 'Star4']].head())"
   ]
  },
  {
   "cell_type": "markdown",
   "metadata": {},
   "source": [
    "# 2. Prepare tf-idf model for the `Star` columns\n",
    "\n",
    "We combine the actor columns into a single column and then transform them into numeric vector representations using TF-IDF."
   ]
  },
  {
   "cell_type": "code",
   "execution_count": 3,
   "metadata": {
    "ExecuteTime": {
     "end_time": "2024-12-04T08:48:02.791293Z",
     "start_time": "2024-12-04T08:48:02.780932Z"
    }
   },
   "outputs": [],
   "source": [
    "# Combine the Star columns into a single string\n",
    "movies_df['Actors'] = (\n",
    "        movies_df['Star1'].fillna('') + ' ' +\n",
    "        movies_df['Star2'].fillna('') + ' ' +\n",
    "        movies_df['Star3'].fillna('') + ' ' +\n",
    "        movies_df['Star4'].fillna('')\n",
    ")"
   ]
  },
  {
   "cell_type": "code",
   "execution_count": 4,
   "metadata": {
    "ExecuteTime": {
     "end_time": "2024-12-04T08:48:02.828860Z",
     "start_time": "2024-12-04T08:48:02.817554Z"
    }
   },
   "outputs": [
    {
     "name": "stdout",
     "output_type": "stream",
     "text": [
      "0    Tim Robbins Morgan Freeman Bob Gunton William ...\n",
      "1      Marlon Brando Al Pacino James Caan Diane Keaton\n",
      "2    Christian Bale Heath Ledger Aaron Eckhart Mich...\n",
      "3    Al Pacino Robert De Niro Robert Duvall Diane K...\n",
      "4    Henry Fonda Lee J. Cobb Martin Balsam John Fie...\n",
      "5    Elijah Wood Viggo Mortensen Ian McKellen Orlan...\n",
      "6    John Travolta Uma Thurman Samuel L. Jackson Br...\n",
      "7    Liam Neeson Ralph Fiennes Ben Kingsley Carolin...\n",
      "8    Leonardo DiCaprio Joseph Gordon-Levitt Elliot ...\n",
      "9       Brad Pitt Edward Norton Meat Loaf Zach Grenier\n",
      "Name: Actors, dtype: object\n"
     ]
    }
   ],
   "source": [
    "# Print the first 10 rows of the new DataFrame\n",
    "print(movies_df['Actors'].head(10))"
   ]
  },
  {
   "cell_type": "code",
   "execution_count": 5,
   "metadata": {
    "ExecuteTime": {
     "end_time": "2024-12-04T08:48:02.856682Z",
     "start_time": "2024-12-04T08:48:02.833699Z"
    }
   },
   "outputs": [
    {
     "name": "stdout",
     "output_type": "stream",
     "text": [
      "Matrix contains 999 movies and 1375 words\n"
     ]
    }
   ],
   "source": [
    "vectorizer = TfidfVectorizer(stop_words='english', max_df=0.8, min_df=2)\n",
    "\n",
    "tfidf_actors = vectorizer.fit_transform(movies_df['Actors'])\n",
    "\n",
    "print(f'Matrix contains {tfidf_actors.shape[0]} movies and {tfidf_actors.shape[1]} words')"
   ]
  },
  {
   "cell_type": "markdown",
   "metadata": {},
   "source": [
    "### Inspect the tf-idf model\n",
    "\n",
    "Inspect the columns with popular actor names like 'niro', 'roberts', 'john', 'adam', 'affleck'."
   ]
  },
  {
   "cell_type": "code",
   "execution_count": 6,
   "metadata": {},
   "outputs": [
    {
     "data": {
      "text/html": [
       "<div>\n",
       "<style scoped>\n",
       "    .dataframe tbody tr th:only-of-type {\n",
       "        vertical-align: middle;\n",
       "    }\n",
       "\n",
       "    .dataframe tbody tr th {\n",
       "        vertical-align: top;\n",
       "    }\n",
       "\n",
       "    .dataframe thead th {\n",
       "        text-align: right;\n",
       "    }\n",
       "</style>\n",
       "<table border=\"1\" class=\"dataframe\">\n",
       "  <thead>\n",
       "    <tr style=\"text-align: right;\">\n",
       "      <th></th>\n",
       "      <th>niro</th>\n",
       "      <th>roberts</th>\n",
       "      <th>john</th>\n",
       "      <th>adam</th>\n",
       "      <th>affleck</th>\n",
       "    </tr>\n",
       "  </thead>\n",
       "  <tbody>\n",
       "    <tr>\n",
       "      <th>0</th>\n",
       "      <td>0</td>\n",
       "      <td>0</td>\n",
       "      <td>0</td>\n",
       "      <td>0</td>\n",
       "      <td>0</td>\n",
       "    </tr>\n",
       "    <tr>\n",
       "      <th>1</th>\n",
       "      <td>0</td>\n",
       "      <td>0</td>\n",
       "      <td>0</td>\n",
       "      <td>0</td>\n",
       "      <td>0</td>\n",
       "    </tr>\n",
       "    <tr>\n",
       "      <th>2</th>\n",
       "      <td>0</td>\n",
       "      <td>0</td>\n",
       "      <td>0</td>\n",
       "      <td>0</td>\n",
       "      <td>0</td>\n",
       "    </tr>\n",
       "    <tr>\n",
       "      <th>3</th>\n",
       "      <td>0.32572</td>\n",
       "      <td>0</td>\n",
       "      <td>0</td>\n",
       "      <td>0</td>\n",
       "      <td>0</td>\n",
       "    </tr>\n",
       "    <tr>\n",
       "      <th>4</th>\n",
       "      <td>0</td>\n",
       "      <td>0</td>\n",
       "      <td>0.222942</td>\n",
       "      <td>0</td>\n",
       "      <td>0</td>\n",
       "    </tr>\n",
       "  </tbody>\n",
       "</table>\n",
       "</div>"
      ],
      "text/plain": [
       "      niro  roberts      john  adam  affleck\n",
       "0        0        0         0     0        0\n",
       "1        0        0         0     0        0\n",
       "2        0        0         0     0        0\n",
       "3  0.32572        0         0     0        0\n",
       "4        0        0  0.222942     0        0"
      ]
     },
     "execution_count": 6,
     "metadata": {},
     "output_type": "execute_result"
    }
   ],
   "source": [
    "actors = ['niro', 'roberts', 'john', 'adam', 'affleck']\n",
    "columns = vectorizer.get_feature_names_out()\n",
    "tfidf_model_df = pd.DataFrame.sparse.from_spmatrix(tfidf_actors, columns=columns)\n",
    "tfidf_model_df[actors].head()"
   ]
  },
  {
   "cell_type": "markdown",
   "metadata": {},
   "source": [
    "# 3. Find similar movies\n",
    "\n",
    "To find similar movies, we use the KNN algorithm with **cosine similarity** as a distance metric to find the nearest neighbours."
   ]
  },
  {
   "cell_type": "code",
   "execution_count": 7,
   "metadata": {
    "ExecuteTime": {
     "end_time": "2024-12-04T08:48:02.879684Z",
     "start_time": "2024-12-04T08:48:02.872707Z"
    }
   },
   "outputs": [],
   "source": [
    "def get_content_based_recommendation_actors(title, top_n=10, metric='cosine'):\n",
    "    # Find the index of the movie that matches the title\n",
    "    idx = movies_df[movies_df.Series_Title.str.lower() == title.lower()].index[0]\n",
    "\n",
    "    # Build the KNN model\n",
    "    model = NearestNeighbors(n_neighbors=top_n+1, metric=metric)\n",
    "    model.fit(tfidf_actors)\n",
    "\n",
    "    # Find similar movies\n",
    "    similar_movies = model.kneighbors(tfidf_actors[idx], return_distance=False)[0]\n",
    "    similar_movies = similar_movies[1:]  # remove the first item (the movie itself)\n",
    "\n",
    "    # Return the top recommendations\n",
    "    return movies_df.iloc[similar_movies]"
   ]
  },
  {
   "cell_type": "code",
   "execution_count": 8,
   "metadata": {
    "ExecuteTime": {
     "end_time": "2024-12-04T08:48:02.914020Z",
     "start_time": "2024-12-04T08:48:02.893131Z"
    }
   },
   "outputs": [
    {
     "data": {
      "text/html": [
       "<div>\n",
       "<style scoped>\n",
       "    .dataframe tbody tr th:only-of-type {\n",
       "        vertical-align: middle;\n",
       "    }\n",
       "\n",
       "    .dataframe tbody tr th {\n",
       "        vertical-align: top;\n",
       "    }\n",
       "\n",
       "    .dataframe thead th {\n",
       "        text-align: right;\n",
       "    }\n",
       "</style>\n",
       "<table border=\"1\" class=\"dataframe\">\n",
       "  <thead>\n",
       "    <tr style=\"text-align: right;\">\n",
       "      <th></th>\n",
       "      <th>Series_Title</th>\n",
       "      <th>Star1</th>\n",
       "      <th>Star2</th>\n",
       "      <th>Star3</th>\n",
       "      <th>Star4</th>\n",
       "      <th>IMDB_Rating</th>\n",
       "      <th>No_of_Votes</th>\n",
       "    </tr>\n",
       "  </thead>\n",
       "  <tbody>\n",
       "    <tr>\n",
       "      <th>3</th>\n",
       "      <td>The Godfather: Part II</td>\n",
       "      <td>Al Pacino</td>\n",
       "      <td>Robert De Niro</td>\n",
       "      <td>Robert Duvall</td>\n",
       "      <td>Diane Keaton</td>\n",
       "      <td>9.0</td>\n",
       "      <td>1129952</td>\n",
       "    </tr>\n",
       "    <tr>\n",
       "      <th>973</th>\n",
       "      <td>The Godfather: Part III</td>\n",
       "      <td>Al Pacino</td>\n",
       "      <td>Diane Keaton</td>\n",
       "      <td>Andy Garcia</td>\n",
       "      <td>Talia Shire</td>\n",
       "      <td>7.6</td>\n",
       "      <td>359809</td>\n",
       "    </tr>\n",
       "    <tr>\n",
       "      <th>397</th>\n",
       "      <td>Scent of a Woman</td>\n",
       "      <td>Al Pacino</td>\n",
       "      <td>Chris O'Donnell</td>\n",
       "      <td>James Rebhorn</td>\n",
       "      <td>Gabrielle Anwar</td>\n",
       "      <td>8.0</td>\n",
       "      <td>263918</td>\n",
       "    </tr>\n",
       "    <tr>\n",
       "      <th>648</th>\n",
       "      <td>The Insider</td>\n",
       "      <td>Russell Crowe</td>\n",
       "      <td>Al Pacino</td>\n",
       "      <td>Christopher Plummer</td>\n",
       "      <td>Diane Venora</td>\n",
       "      <td>7.8</td>\n",
       "      <td>159886</td>\n",
       "    </tr>\n",
       "    <tr>\n",
       "      <th>53</th>\n",
       "      <td>Capharnaüm</td>\n",
       "      <td>Zain Al Rafeea</td>\n",
       "      <td>Yordanos Shiferaw</td>\n",
       "      <td>Boluwatife Treasure Bankole</td>\n",
       "      <td>Kawsar Al Haddad</td>\n",
       "      <td>8.4</td>\n",
       "      <td>62635</td>\n",
       "    </tr>\n",
       "    <tr>\n",
       "      <th>532</th>\n",
       "      <td>Manhattan</td>\n",
       "      <td>Woody Allen</td>\n",
       "      <td>Diane Keaton</td>\n",
       "      <td>Mariel Hemingway</td>\n",
       "      <td>Michael Murphy</td>\n",
       "      <td>7.9</td>\n",
       "      <td>131436</td>\n",
       "    </tr>\n",
       "    <tr>\n",
       "      <th>74</th>\n",
       "      <td>Apocalypse Now</td>\n",
       "      <td>Martin Sheen</td>\n",
       "      <td>Marlon Brando</td>\n",
       "      <td>Robert Duvall</td>\n",
       "      <td>Frederic Forrest</td>\n",
       "      <td>8.4</td>\n",
       "      <td>606398</td>\n",
       "    </tr>\n",
       "    <tr>\n",
       "      <th>304</th>\n",
       "      <td>On the Waterfront</td>\n",
       "      <td>Marlon Brando</td>\n",
       "      <td>Karl Malden</td>\n",
       "      <td>Lee J. Cobb</td>\n",
       "      <td>Rod Steiger</td>\n",
       "      <td>8.1</td>\n",
       "      <td>142107</td>\n",
       "    </tr>\n",
       "    <tr>\n",
       "      <th>446</th>\n",
       "      <td>A Streetcar Named Desire</td>\n",
       "      <td>Vivien Leigh</td>\n",
       "      <td>Marlon Brando</td>\n",
       "      <td>Kim Hunter</td>\n",
       "      <td>Karl Malden</td>\n",
       "      <td>8.0</td>\n",
       "      <td>99182</td>\n",
       "    </tr>\n",
       "    <tr>\n",
       "      <th>413</th>\n",
       "      <td>Annie Hall</td>\n",
       "      <td>Woody Allen</td>\n",
       "      <td>Diane Keaton</td>\n",
       "      <td>Tony Roberts</td>\n",
       "      <td>Carol Kane</td>\n",
       "      <td>8.0</td>\n",
       "      <td>251823</td>\n",
       "    </tr>\n",
       "  </tbody>\n",
       "</table>\n",
       "</div>"
      ],
      "text/plain": [
       "                 Series_Title           Star1              Star2  \\\n",
       "3      The Godfather: Part II       Al Pacino     Robert De Niro   \n",
       "973   The Godfather: Part III       Al Pacino       Diane Keaton   \n",
       "397          Scent of a Woman       Al Pacino    Chris O'Donnell   \n",
       "648               The Insider   Russell Crowe          Al Pacino   \n",
       "53                 Capharnaüm  Zain Al Rafeea  Yordanos Shiferaw   \n",
       "532                 Manhattan     Woody Allen       Diane Keaton   \n",
       "74             Apocalypse Now    Martin Sheen      Marlon Brando   \n",
       "304         On the Waterfront   Marlon Brando        Karl Malden   \n",
       "446  A Streetcar Named Desire    Vivien Leigh      Marlon Brando   \n",
       "413                Annie Hall     Woody Allen       Diane Keaton   \n",
       "\n",
       "                           Star3             Star4  IMDB_Rating  No_of_Votes  \n",
       "3                  Robert Duvall      Diane Keaton          9.0      1129952  \n",
       "973                  Andy Garcia       Talia Shire          7.6       359809  \n",
       "397                James Rebhorn   Gabrielle Anwar          8.0       263918  \n",
       "648          Christopher Plummer      Diane Venora          7.8       159886  \n",
       "53   Boluwatife Treasure Bankole  Kawsar Al Haddad          8.4        62635  \n",
       "532             Mariel Hemingway    Michael Murphy          7.9       131436  \n",
       "74                 Robert Duvall  Frederic Forrest          8.4       606398  \n",
       "304                  Lee J. Cobb       Rod Steiger          8.1       142107  \n",
       "446                   Kim Hunter       Karl Malden          8.0        99182  \n",
       "413                 Tony Roberts        Carol Kane          8.0       251823  "
      ]
     },
     "execution_count": 8,
     "metadata": {},
     "output_type": "execute_result"
    }
   ],
   "source": [
    "get_content_based_recommendation_actors('The Godfather')[['Series_Title', 'Star1', 'Star2', 'Star3', 'Star4', 'IMDB_Rating', 'No_of_Votes']]"
   ]
  },
  {
   "cell_type": "code",
   "execution_count": 9,
   "metadata": {
    "ExecuteTime": {
     "end_time": "2024-12-04T08:48:02.986501Z",
     "start_time": "2024-12-04T08:48:02.967051Z"
    }
   },
   "outputs": [
    {
     "data": {
      "text/html": [
       "<div>\n",
       "<style scoped>\n",
       "    .dataframe tbody tr th:only-of-type {\n",
       "        vertical-align: middle;\n",
       "    }\n",
       "\n",
       "    .dataframe tbody tr th {\n",
       "        vertical-align: top;\n",
       "    }\n",
       "\n",
       "    .dataframe thead th {\n",
       "        text-align: right;\n",
       "    }\n",
       "</style>\n",
       "<table border=\"1\" class=\"dataframe\">\n",
       "  <thead>\n",
       "    <tr style=\"text-align: right;\">\n",
       "      <th></th>\n",
       "      <th>Series_Title</th>\n",
       "      <th>Star1</th>\n",
       "      <th>Star2</th>\n",
       "      <th>Star3</th>\n",
       "      <th>Star4</th>\n",
       "      <th>IMDB_Rating</th>\n",
       "      <th>No_of_Votes</th>\n",
       "    </tr>\n",
       "  </thead>\n",
       "  <tbody>\n",
       "    <tr>\n",
       "      <th>36</th>\n",
       "      <td>The Prestige</td>\n",
       "      <td>Christian Bale</td>\n",
       "      <td>Hugh Jackman</td>\n",
       "      <td>Scarlett Johansson</td>\n",
       "      <td>Michael Caine</td>\n",
       "      <td>8.5</td>\n",
       "      <td>1190259</td>\n",
       "    </tr>\n",
       "    <tr>\n",
       "      <th>154</th>\n",
       "      <td>Batman Begins</td>\n",
       "      <td>Christian Bale</td>\n",
       "      <td>Michael Caine</td>\n",
       "      <td>Ken Watanabe</td>\n",
       "      <td>Liam Neeson</td>\n",
       "      <td>8.2</td>\n",
       "      <td>1308302</td>\n",
       "    </tr>\n",
       "    <tr>\n",
       "      <th>772</th>\n",
       "      <td>Brokeback Mountain</td>\n",
       "      <td>Jake Gyllenhaal</td>\n",
       "      <td>Heath Ledger</td>\n",
       "      <td>Michelle Williams</td>\n",
       "      <td>Randy Quaid</td>\n",
       "      <td>7.7</td>\n",
       "      <td>323103</td>\n",
       "    </tr>\n",
       "    <tr>\n",
       "      <th>818</th>\n",
       "      <td>The Muppet Christmas Carol</td>\n",
       "      <td>Michael Caine</td>\n",
       "      <td>Kermit the Frog</td>\n",
       "      <td>Dave Goelz</td>\n",
       "      <td>Miss Piggy</td>\n",
       "      <td>7.7</td>\n",
       "      <td>50298</td>\n",
       "    </tr>\n",
       "    <tr>\n",
       "      <th>777</th>\n",
       "      <td>The Machinist</td>\n",
       "      <td>Christian Bale</td>\n",
       "      <td>Jennifer Jason Leigh</td>\n",
       "      <td>Aitana Sánchez-Gijón</td>\n",
       "      <td>John Sharian</td>\n",
       "      <td>7.7</td>\n",
       "      <td>358432</td>\n",
       "    </tr>\n",
       "    <tr>\n",
       "      <th>216</th>\n",
       "      <td>Ford v Ferrari</td>\n",
       "      <td>Matt Damon</td>\n",
       "      <td>Christian Bale</td>\n",
       "      <td>Jon Bernthal</td>\n",
       "      <td>Caitriona Balfe</td>\n",
       "      <td>8.1</td>\n",
       "      <td>291289</td>\n",
       "    </tr>\n",
       "    <tr>\n",
       "      <th>831</th>\n",
       "      <td>Empire of the Sun</td>\n",
       "      <td>Christian Bale</td>\n",
       "      <td>John Malkovich</td>\n",
       "      <td>Miranda Richardson</td>\n",
       "      <td>Nigel Havers</td>\n",
       "      <td>7.7</td>\n",
       "      <td>115677</td>\n",
       "    </tr>\n",
       "    <tr>\n",
       "      <th>952</th>\n",
       "      <td>American Psycho</td>\n",
       "      <td>Christian Bale</td>\n",
       "      <td>Justin Theroux</td>\n",
       "      <td>Josh Lucas</td>\n",
       "      <td>Bill Sage</td>\n",
       "      <td>7.6</td>\n",
       "      <td>490062</td>\n",
       "    </tr>\n",
       "    <tr>\n",
       "      <th>691</th>\n",
       "      <td>The Man Who Would Be King</td>\n",
       "      <td>Sean Connery</td>\n",
       "      <td>Michael Caine</td>\n",
       "      <td>Christopher Plummer</td>\n",
       "      <td>Saeed Jaffrey</td>\n",
       "      <td>7.8</td>\n",
       "      <td>44917</td>\n",
       "    </tr>\n",
       "    <tr>\n",
       "      <th>63</th>\n",
       "      <td>The Dark Knight Rises</td>\n",
       "      <td>Christian Bale</td>\n",
       "      <td>Tom Hardy</td>\n",
       "      <td>Anne Hathaway</td>\n",
       "      <td>Gary Oldman</td>\n",
       "      <td>8.4</td>\n",
       "      <td>1516346</td>\n",
       "    </tr>\n",
       "  </tbody>\n",
       "</table>\n",
       "</div>"
      ],
      "text/plain": [
       "                   Series_Title            Star1                 Star2  \\\n",
       "36                 The Prestige   Christian Bale          Hugh Jackman   \n",
       "154               Batman Begins   Christian Bale         Michael Caine   \n",
       "772          Brokeback Mountain  Jake Gyllenhaal          Heath Ledger   \n",
       "818  The Muppet Christmas Carol    Michael Caine       Kermit the Frog   \n",
       "777               The Machinist   Christian Bale  Jennifer Jason Leigh   \n",
       "216              Ford v Ferrari       Matt Damon        Christian Bale   \n",
       "831           Empire of the Sun   Christian Bale        John Malkovich   \n",
       "952             American Psycho   Christian Bale        Justin Theroux   \n",
       "691   The Man Who Would Be King     Sean Connery         Michael Caine   \n",
       "63        The Dark Knight Rises   Christian Bale             Tom Hardy   \n",
       "\n",
       "                    Star3            Star4  IMDB_Rating  No_of_Votes  \n",
       "36     Scarlett Johansson    Michael Caine          8.5      1190259  \n",
       "154          Ken Watanabe      Liam Neeson          8.2      1308302  \n",
       "772     Michelle Williams      Randy Quaid          7.7       323103  \n",
       "818            Dave Goelz       Miss Piggy          7.7        50298  \n",
       "777  Aitana Sánchez-Gijón     John Sharian          7.7       358432  \n",
       "216          Jon Bernthal  Caitriona Balfe          8.1       291289  \n",
       "831    Miranda Richardson     Nigel Havers          7.7       115677  \n",
       "952            Josh Lucas        Bill Sage          7.6       490062  \n",
       "691   Christopher Plummer    Saeed Jaffrey          7.8        44917  \n",
       "63          Anne Hathaway      Gary Oldman          8.4      1516346  "
      ]
     },
     "execution_count": 9,
     "metadata": {},
     "output_type": "execute_result"
    }
   ],
   "source": [
    "get_content_based_recommendation_actors('The Dark Knight')[['Series_Title', 'Star1', 'Star2', 'Star3', 'Star4', 'IMDB_Rating', 'No_of_Votes']]"
   ]
  }
 ],
 "metadata": {
  "kernelspec": {
   "display_name": "Python 3",
   "language": "python",
   "name": "python3"
  },
  "language_info": {
   "codemirror_mode": {
    "name": "ipython",
    "version": 3
   },
   "file_extension": ".py",
   "mimetype": "text/x-python",
   "name": "python",
   "nbconvert_exporter": "python",
   "pygments_lexer": "ipython3",
   "version": "3.12.8"
  }
 },
 "nbformat": 4,
 "nbformat_minor": 2
}
